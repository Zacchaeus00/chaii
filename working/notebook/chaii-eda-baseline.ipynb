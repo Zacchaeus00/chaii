{
 "cells": [
  {
   "cell_type": "markdown",
   "id": "dd0ac98c",
   "metadata": {
    "papermill": {
     "duration": 0.049158,
     "end_time": "2021-08-13T14:33:37.006776",
     "exception": false,
     "start_time": "2021-08-13T14:33:36.957618",
     "status": "completed"
    },
    "tags": []
   },
   "source": [
    "# ChAII - Exploratory Data Analysis\n",
    "\n",
    "I'm excited about this competition but wondering if I stand a chance without speaking Hindi or Tamil. Let's try to explore the data without understanding the content first :) "
   ]
  },
  {
   "cell_type": "code",
   "execution_count": 1,
   "id": "9249aac9",
   "metadata": {
    "execution": {
     "iopub.execute_input": "2021-08-13T14:33:37.106824Z",
     "iopub.status.busy": "2021-08-13T14:33:37.106120Z",
     "iopub.status.idle": "2021-08-13T14:33:37.109561Z",
     "shell.execute_reply": "2021-08-13T14:33:37.109050Z",
     "shell.execute_reply.started": "2021-08-13T08:24:24.233842Z"
    },
    "papermill": {
     "duration": 0.058341,
     "end_time": "2021-08-13T14:33:37.109691",
     "exception": false,
     "start_time": "2021-08-13T14:33:37.051350",
     "status": "completed"
    },
    "tags": []
   },
   "outputs": [],
   "source": [
    "import pandas as pd\n",
    "import numpy as np"
   ]
  },
  {
   "cell_type": "markdown",
   "id": "62a972ae",
   "metadata": {
    "papermill": {
     "duration": 0.043238,
     "end_time": "2021-08-13T14:33:37.198631",
     "exception": false,
     "start_time": "2021-08-13T14:33:37.155393",
     "status": "completed"
    },
    "tags": []
   },
   "source": [
    "### What do we need to submit? \n",
    "\n",
    "Let's start from the end :) What do we need to submit? The sample submission contains 2 columns: *id* and *PredictionString*. \n",
    "\n",
    "This is definition from the host:\n",
    "\n",
    "> For each ID in the test set, you must predict the string that best answers the provided question based on the context. Note that the selected text needs to be quoted and complete to work correctly. Include punctuation, etc. - the above code splits ONLY on whitespace.\n",
    "\n",
    "It's not said explicitly, but I think our answer text needs to be a continuous span from the contex. It's a hypothesis to test. "
   ]
  },
  {
   "cell_type": "code",
   "execution_count": 2,
   "id": "f0ccab8c",
   "metadata": {
    "execution": {
     "iopub.execute_input": "2021-08-13T14:33:37.286959Z",
     "iopub.status.busy": "2021-08-13T14:33:37.286353Z",
     "iopub.status.idle": "2021-08-13T14:33:37.399921Z",
     "shell.execute_reply": "2021-08-13T14:33:37.399047Z",
     "shell.execute_reply.started": "2021-08-13T08:24:24.247053Z"
    },
    "papermill": {
     "duration": 0.161137,
     "end_time": "2021-08-13T14:33:37.400125",
     "exception": false,
     "start_time": "2021-08-13T14:33:37.238988",
     "status": "completed"
    },
    "tags": []
   },
   "outputs": [
    {
     "data": {
      "text/html": [
       "<div>\n",
       "<style scoped>\n",
       "    .dataframe tbody tr th:only-of-type {\n",
       "        vertical-align: middle;\n",
       "    }\n",
       "\n",
       "    .dataframe tbody tr th {\n",
       "        vertical-align: top;\n",
       "    }\n",
       "\n",
       "    .dataframe thead th {\n",
       "        text-align: right;\n",
       "    }\n",
       "</style>\n",
       "<table border=\"1\" class=\"dataframe\">\n",
       "  <thead>\n",
       "    <tr style=\"text-align: right;\">\n",
       "      <th></th>\n",
       "      <th>id</th>\n",
       "      <th>PredictionString</th>\n",
       "    </tr>\n",
       "  </thead>\n",
       "  <tbody>\n",
       "    <tr>\n",
       "      <th>0</th>\n",
       "      <td>22bff3dec</td>\n",
       "      <td>NaN</td>\n",
       "    </tr>\n",
       "  </tbody>\n",
       "</table>\n",
       "</div>"
      ],
      "text/plain": [
       "          id  PredictionString\n",
       "0  22bff3dec               NaN"
      ]
     },
     "execution_count": 2,
     "metadata": {},
     "output_type": "execute_result"
    }
   ],
   "source": [
    "sub = pd.read_csv('../input/chaii-hindi-and-tamil-question-answering/sample_submission.csv')\n",
    "sub.head(1)"
   ]
  },
  {
   "cell_type": "markdown",
   "id": "15a3a639",
   "metadata": {
    "papermill": {
     "duration": 0.0559,
     "end_time": "2021-08-13T14:33:37.527418",
     "exception": false,
     "start_time": "2021-08-13T14:33:37.471518",
     "status": "completed"
    },
    "tags": []
   },
   "source": [
    "### What train data do we have available? \n",
    "\n",
    "Looks like the training set is very small: 747 Hindi and 368 Tamil examples. We have the context, question, answer_text and answer_start. So this is in fact a **reading comprehension** task, which means that we have context available and need to find the start and end span in that contexts that answers our question. Typical example of such format is SQUAD. "
   ]
  },
  {
   "cell_type": "code",
   "execution_count": 3,
   "id": "aec222f7",
   "metadata": {
    "execution": {
     "iopub.execute_input": "2021-08-13T14:33:37.623538Z",
     "iopub.status.busy": "2021-08-13T14:33:37.622700Z",
     "iopub.status.idle": "2021-08-13T14:33:38.832144Z",
     "shell.execute_reply": "2021-08-13T14:33:38.831216Z",
     "shell.execute_reply.started": "2021-08-13T08:24:24.343745Z"
    },
    "papermill": {
     "duration": 1.262093,
     "end_time": "2021-08-13T14:33:38.832283",
     "exception": false,
     "start_time": "2021-08-13T14:33:37.570190",
     "status": "completed"
    },
    "tags": []
   },
   "outputs": [
    {
     "data": {
      "text/html": [
       "<div>\n",
       "<style scoped>\n",
       "    .dataframe tbody tr th:only-of-type {\n",
       "        vertical-align: middle;\n",
       "    }\n",
       "\n",
       "    .dataframe tbody tr th {\n",
       "        vertical-align: top;\n",
       "    }\n",
       "\n",
       "    .dataframe thead th {\n",
       "        text-align: right;\n",
       "    }\n",
       "</style>\n",
       "<table border=\"1\" class=\"dataframe\">\n",
       "  <thead>\n",
       "    <tr style=\"text-align: right;\">\n",
       "      <th></th>\n",
       "      <th>id</th>\n",
       "      <th>context</th>\n",
       "      <th>question</th>\n",
       "      <th>answer_text</th>\n",
       "      <th>answer_start</th>\n",
       "      <th>language</th>\n",
       "    </tr>\n",
       "  </thead>\n",
       "  <tbody>\n",
       "    <tr>\n",
       "      <th>0</th>\n",
       "      <td>903deec17</td>\n",
       "      <td>ஒரு சாதாரண வளர்ந்த மனிதனுடைய எலும்புக்கூடு பின...</td>\n",
       "      <td>மனித உடலில் எத்தனை எலும்புகள் உள்ளன?</td>\n",
       "      <td>206</td>\n",
       "      <td>53</td>\n",
       "      <td>tamil</td>\n",
       "    </tr>\n",
       "    <tr>\n",
       "      <th>1</th>\n",
       "      <td>d9841668c</td>\n",
       "      <td>காளிதாசன் (தேவநாகரி: कालिदास) சமஸ்கிருத இலக்கி...</td>\n",
       "      <td>காளிதாசன் எங்கு பிறந்தார்?</td>\n",
       "      <td>காசுமீரில்</td>\n",
       "      <td>2358</td>\n",
       "      <td>tamil</td>\n",
       "    </tr>\n",
       "    <tr>\n",
       "      <th>2</th>\n",
       "      <td>29d154b56</td>\n",
       "      <td>சர் அலெக்ஸாண்டர் ஃபிளெமிங் (Sir Alexander Flem...</td>\n",
       "      <td>பென்சிலின் கண்டுபிடித்தவர் யார்?</td>\n",
       "      <td>சர் அலெக்ஸாண்டர் ஃபிளெமிங்</td>\n",
       "      <td>0</td>\n",
       "      <td>tamil</td>\n",
       "    </tr>\n",
       "    <tr>\n",
       "      <th>3</th>\n",
       "      <td>41660850a</td>\n",
       "      <td>குழந்தையின் அழுகையை  நிறுத்தவும், தூங்க வைக்கவ...</td>\n",
       "      <td>தமிழ்நாட்டில் குழந்தைகளை தூங்க வைக்க பாடும் பா...</td>\n",
       "      <td>தாலாட்டு</td>\n",
       "      <td>68</td>\n",
       "      <td>tamil</td>\n",
       "    </tr>\n",
       "    <tr>\n",
       "      <th>4</th>\n",
       "      <td>b29c82c22</td>\n",
       "      <td>சூரியக் குடும்பம் \\nசூரியக் குடும்பம் (Solar S...</td>\n",
       "      <td>பூமியின் அருகில் உள்ள விண்மீன் எது?</td>\n",
       "      <td>சூரியனும்</td>\n",
       "      <td>585</td>\n",
       "      <td>tamil</td>\n",
       "    </tr>\n",
       "  </tbody>\n",
       "</table>\n",
       "</div>"
      ],
      "text/plain": [
       "          id                                            context  \\\n",
       "0  903deec17  ஒரு சாதாரண வளர்ந்த மனிதனுடைய எலும்புக்கூடு பின...   \n",
       "1  d9841668c  காளிதாசன் (தேவநாகரி: कालिदास) சமஸ்கிருத இலக்கி...   \n",
       "2  29d154b56  சர் அலெக்ஸாண்டர் ஃபிளெமிங் (Sir Alexander Flem...   \n",
       "3  41660850a  குழந்தையின் அழுகையை  நிறுத்தவும், தூங்க வைக்கவ...   \n",
       "4  b29c82c22  சூரியக் குடும்பம் \\nசூரியக் குடும்பம் (Solar S...   \n",
       "\n",
       "                                            question  \\\n",
       "0               மனித உடலில் எத்தனை எலும்புகள் உள்ளன?   \n",
       "1                         காளிதாசன் எங்கு பிறந்தார்?   \n",
       "2                   பென்சிலின் கண்டுபிடித்தவர் யார்?   \n",
       "3  தமிழ்நாட்டில் குழந்தைகளை தூங்க வைக்க பாடும் பா...   \n",
       "4                பூமியின் அருகில் உள்ள விண்மீன் எது?   \n",
       "\n",
       "                  answer_text  answer_start language  \n",
       "0                         206            53    tamil  \n",
       "1                  காசுமீரில்          2358    tamil  \n",
       "2  சர் அலெக்ஸாண்டர் ஃபிளெமிங்             0    tamil  \n",
       "3                    தாலாட்டு            68    tamil  \n",
       "4                   சூரியனும்           585    tamil  "
      ]
     },
     "execution_count": 3,
     "metadata": {},
     "output_type": "execute_result"
    }
   ],
   "source": [
    "train = pd.read_csv('../input/chaii-hindi-and-tamil-question-answering/train.csv')\n",
    "train.head()"
   ]
  },
  {
   "cell_type": "code",
   "execution_count": 4,
   "id": "45104c6c",
   "metadata": {
    "execution": {
     "iopub.execute_input": "2021-08-13T14:33:38.930615Z",
     "iopub.status.busy": "2021-08-13T14:33:38.929869Z",
     "iopub.status.idle": "2021-08-13T14:33:38.932695Z",
     "shell.execute_reply": "2021-08-13T14:33:38.933113Z",
     "shell.execute_reply.started": "2021-08-13T08:24:25.067099Z"
    },
    "papermill": {
     "duration": 0.054915,
     "end_time": "2021-08-13T14:33:38.933258",
     "exception": false,
     "start_time": "2021-08-13T14:33:38.878343",
     "status": "completed"
    },
    "tags": []
   },
   "outputs": [
    {
     "data": {
      "text/plain": [
       "hindi    746\n",
       "tamil    368\n",
       "Name: language, dtype: int64"
      ]
     },
     "execution_count": 4,
     "metadata": {},
     "output_type": "execute_result"
    }
   ],
   "source": [
    "train.language.value_counts()"
   ]
  },
  {
   "cell_type": "markdown",
   "id": "3081c995",
   "metadata": {
    "papermill": {
     "duration": 0.047623,
     "end_time": "2021-08-13T14:33:39.026354",
     "exception": false,
     "start_time": "2021-08-13T14:33:38.978731",
     "status": "completed"
    },
    "tags": []
   },
   "source": [
    "### What about test? \n",
    "\n",
    "In test, we have just 5 examples, and similar columns like in train except that we don't have *answer_text* and *answer_start*. It seems that *answer_text* is what we're trying to predict. "
   ]
  },
  {
   "cell_type": "code",
   "execution_count": 5,
   "id": "5acc17dd",
   "metadata": {
    "execution": {
     "iopub.execute_input": "2021-08-13T14:33:39.115878Z",
     "iopub.status.busy": "2021-08-13T14:33:39.115278Z",
     "iopub.status.idle": "2021-08-13T14:33:39.137894Z",
     "shell.execute_reply": "2021-08-13T14:33:39.137421Z",
     "shell.execute_reply.started": "2021-08-13T08:24:25.078673Z"
    },
    "papermill": {
     "duration": 0.068779,
     "end_time": "2021-08-13T14:33:39.138044",
     "exception": false,
     "start_time": "2021-08-13T14:33:39.069265",
     "status": "completed"
    },
    "tags": []
   },
   "outputs": [
    {
     "data": {
      "text/html": [
       "<div>\n",
       "<style scoped>\n",
       "    .dataframe tbody tr th:only-of-type {\n",
       "        vertical-align: middle;\n",
       "    }\n",
       "\n",
       "    .dataframe tbody tr th {\n",
       "        vertical-align: top;\n",
       "    }\n",
       "\n",
       "    .dataframe thead th {\n",
       "        text-align: right;\n",
       "    }\n",
       "</style>\n",
       "<table border=\"1\" class=\"dataframe\">\n",
       "  <thead>\n",
       "    <tr style=\"text-align: right;\">\n",
       "      <th></th>\n",
       "      <th>id</th>\n",
       "      <th>context</th>\n",
       "      <th>question</th>\n",
       "      <th>language</th>\n",
       "    </tr>\n",
       "  </thead>\n",
       "  <tbody>\n",
       "    <tr>\n",
       "      <th>0</th>\n",
       "      <td>22bff3dec</td>\n",
       "      <td>ज्वाला गुट्टा (जन्म: 7 सितंबर 1983; वर्धा, महा...</td>\n",
       "      <td>ज्वाला गुट्टा की माँ का नाम क्या है</td>\n",
       "      <td>hindi</td>\n",
       "    </tr>\n",
       "    <tr>\n",
       "      <th>1</th>\n",
       "      <td>282758170</td>\n",
       "      <td>गूगल मानचित्र (Google Maps) (पूर्व में गूगल लो...</td>\n",
       "      <td>गूगल मैप्स कब लॉन्च किया गया था?</td>\n",
       "      <td>hindi</td>\n",
       "    </tr>\n",
       "    <tr>\n",
       "      <th>2</th>\n",
       "      <td>d60987e0e</td>\n",
       "      <td>गुस्ताव रॉबर्ट किरचॉफ़ (१२ मार्च १८२४ - १७ अक्...</td>\n",
       "      <td>गुस्ताव किरचॉफ का जन्म कब हुआ था?</td>\n",
       "      <td>hindi</td>\n",
       "    </tr>\n",
       "    <tr>\n",
       "      <th>3</th>\n",
       "      <td>f99c770dc</td>\n",
       "      <td>அலுமினியம் (ஆங்கிலம்: அலுமினியம்; வட அமெரிக்க ...</td>\n",
       "      <td>அலுமினியத்தின் அணு எண் என்ன?</td>\n",
       "      <td>tamil</td>\n",
       "    </tr>\n",
       "    <tr>\n",
       "      <th>4</th>\n",
       "      <td>40dec1964</td>\n",
       "      <td>கூட்டுறவு இயக்க வரலாறு, இங்கிலாந்து  நாட்டில் ...</td>\n",
       "      <td>இந்தியாவில் பசுமை புரட்சியின் தந்தை என்று கருத...</td>\n",
       "      <td>tamil</td>\n",
       "    </tr>\n",
       "  </tbody>\n",
       "</table>\n",
       "</div>"
      ],
      "text/plain": [
       "          id                                            context  \\\n",
       "0  22bff3dec  ज्वाला गुट्टा (जन्म: 7 सितंबर 1983; वर्धा, महा...   \n",
       "1  282758170  गूगल मानचित्र (Google Maps) (पूर्व में गूगल लो...   \n",
       "2  d60987e0e  गुस्ताव रॉबर्ट किरचॉफ़ (१२ मार्च १८२४ - १७ अक्...   \n",
       "3  f99c770dc  அலுமினியம் (ஆங்கிலம்: அலுமினியம்; வட அமெரிக்க ...   \n",
       "4  40dec1964  கூட்டுறவு இயக்க வரலாறு, இங்கிலாந்து  நாட்டில் ...   \n",
       "\n",
       "                                            question language  \n",
       "0                ज्वाला गुट्टा की माँ का नाम क्या है    hindi  \n",
       "1                   गूगल मैप्स कब लॉन्च किया गया था?    hindi  \n",
       "2                  गुस्ताव किरचॉफ का जन्म कब हुआ था?    hindi  \n",
       "3                       அலுமினியத்தின் அணு எண் என்ன?    tamil  \n",
       "4  இந்தியாவில் பசுமை புரட்சியின் தந்தை என்று கருத...    tamil  "
      ]
     },
     "execution_count": 5,
     "metadata": {},
     "output_type": "execute_result"
    }
   ],
   "source": [
    "test = pd.read_csv('../input/chaii-hindi-and-tamil-question-answering/test.csv')\n",
    "test.head()"
   ]
  },
  {
   "cell_type": "code",
   "execution_count": 6,
   "id": "47ed97c6",
   "metadata": {
    "execution": {
     "iopub.execute_input": "2021-08-13T14:33:39.232760Z",
     "iopub.status.busy": "2021-08-13T14:33:39.232133Z",
     "iopub.status.idle": "2021-08-13T14:33:39.235090Z",
     "shell.execute_reply": "2021-08-13T14:33:39.235487Z",
     "shell.execute_reply.started": "2021-08-13T08:24:25.114376Z"
    },
    "papermill": {
     "duration": 0.050157,
     "end_time": "2021-08-13T14:33:39.235629",
     "exception": false,
     "start_time": "2021-08-13T14:33:39.185472",
     "status": "completed"
    },
    "tags": []
   },
   "outputs": [
    {
     "data": {
      "text/plain": [
       "5"
      ]
     },
     "execution_count": 6,
     "metadata": {},
     "output_type": "execute_result"
    }
   ],
   "source": [
    "len(test)"
   ]
  },
  {
   "cell_type": "markdown",
   "id": "0a1de795",
   "metadata": {
    "papermill": {
     "duration": 0.047564,
     "end_time": "2021-08-13T14:33:39.326398",
     "exception": false,
     "start_time": "2021-08-13T14:33:39.278834",
     "status": "completed"
    },
    "tags": []
   },
   "source": [
    "### Metric\n",
    "\n",
    "We're evaluated based on Jaccard score, which is an intersection over union metric. It's measures how many words from the context we picked correctly. \n"
   ]
  },
  {
   "cell_type": "markdown",
   "id": "6e24c1bd",
   "metadata": {
    "papermill": {
     "duration": 0.045654,
     "end_time": "2021-08-13T14:33:39.420030",
     "exception": false,
     "start_time": "2021-08-13T14:33:39.374376",
     "status": "completed"
    },
    "tags": []
   },
   "source": [
    "**... work in progress ...**"
   ]
  },
  {
   "cell_type": "markdown",
   "id": "505d2cb1",
   "metadata": {
    "papermill": {
     "duration": 0.074735,
     "end_time": "2021-08-13T14:33:39.573530",
     "exception": false,
     "start_time": "2021-08-13T14:33:39.498795",
     "status": "completed"
    },
    "tags": []
   },
   "source": [
    "# Baseline\n",
    "\n",
    "Based on: https://github.com/huggingface/notebooks/blob/master/examples/question_answering.ipynb"
   ]
  },
  {
   "cell_type": "code",
   "execution_count": 7,
   "id": "6897ad7d",
   "metadata": {
    "execution": {
     "iopub.execute_input": "2021-08-13T14:33:39.732841Z",
     "iopub.status.busy": "2021-08-13T14:33:39.731915Z",
     "iopub.status.idle": "2021-08-13T14:33:41.201650Z",
     "shell.execute_reply": "2021-08-13T14:33:41.200632Z",
     "shell.execute_reply.started": "2021-08-13T08:24:25.134885Z"
    },
    "papermill": {
     "duration": 1.551764,
     "end_time": "2021-08-13T14:33:41.201797",
     "exception": false,
     "start_time": "2021-08-13T14:33:39.650033",
     "status": "completed"
    },
    "tags": []
   },
   "outputs": [],
   "source": [
    "import transformers"
   ]
  },
  {
   "cell_type": "code",
   "execution_count": 8,
   "id": "0bf8e7d9",
   "metadata": {
    "execution": {
     "iopub.execute_input": "2021-08-13T14:33:41.294242Z",
     "iopub.status.busy": "2021-08-13T14:33:41.293297Z",
     "iopub.status.idle": "2021-08-13T14:33:41.296192Z",
     "shell.execute_reply": "2021-08-13T14:33:41.295672Z",
     "shell.execute_reply.started": "2021-08-13T08:24:25.985464Z"
    },
    "papermill": {
     "duration": 0.051027,
     "end_time": "2021-08-13T14:33:41.296321",
     "exception": false,
     "start_time": "2021-08-13T14:33:41.245294",
     "status": "completed"
    },
    "tags": []
   },
   "outputs": [],
   "source": [
    "model_checkpoint = '../input/xlm-roberta-squad2/deepset/xlm-roberta-large-squad2'\n",
    "batch_size = 4"
   ]
  },
  {
   "cell_type": "code",
   "execution_count": 9,
   "id": "60015d13",
   "metadata": {
    "execution": {
     "iopub.execute_input": "2021-08-13T14:33:41.392955Z",
     "iopub.status.busy": "2021-08-13T14:33:41.392312Z",
     "iopub.status.idle": "2021-08-13T14:33:47.681851Z",
     "shell.execute_reply": "2021-08-13T14:33:47.682493Z",
     "shell.execute_reply.started": "2021-08-13T08:24:25.993583Z"
    },
    "papermill": {
     "duration": 6.33816,
     "end_time": "2021-08-13T14:33:47.682658",
     "exception": false,
     "start_time": "2021-08-13T14:33:41.344498",
     "status": "completed"
    },
    "tags": []
   },
   "outputs": [],
   "source": [
    "from transformers import AutoTokenizer\n",
    "    \n",
    "tokenizer = AutoTokenizer.from_pretrained(model_checkpoint)"
   ]
  },
  {
   "cell_type": "code",
   "execution_count": 10,
   "id": "543ec9f1",
   "metadata": {
    "execution": {
     "iopub.execute_input": "2021-08-13T14:33:47.778048Z",
     "iopub.status.busy": "2021-08-13T14:33:47.777451Z",
     "iopub.status.idle": "2021-08-13T14:34:24.031592Z",
     "shell.execute_reply": "2021-08-13T14:34:24.030747Z",
     "shell.execute_reply.started": "2021-08-13T08:24:30.830114Z"
    },
    "papermill": {
     "duration": 36.302623,
     "end_time": "2021-08-13T14:34:24.031725",
     "exception": false,
     "start_time": "2021-08-13T14:33:47.729102",
     "status": "completed"
    },
    "tags": []
   },
   "outputs": [
    {
     "name": "stderr",
     "output_type": "stream",
     "text": [
      "Token indices sequence length is longer than the specified maximum sequence length for this model (1492 > 512). Running this sequence through the model will result in indexing errors\n"
     ]
    }
   ],
   "source": [
    "train['num_tokens_context'] = train['context'].apply(lambda t: len(tokenizer(t)['input_ids']))"
   ]
  },
  {
   "cell_type": "markdown",
   "id": "aad1d44a",
   "metadata": {
    "papermill": {
     "duration": 0.0414,
     "end_time": "2021-08-13T14:34:24.114447",
     "exception": false,
     "start_time": "2021-08-13T14:34:24.073047",
     "status": "completed"
    },
    "tags": []
   },
   "source": [
    "Looks like the context can get pretty long, so we'll need to divide it into pieces before processing. "
   ]
  },
  {
   "cell_type": "code",
   "execution_count": 11,
   "id": "377ebc1e",
   "metadata": {
    "execution": {
     "iopub.execute_input": "2021-08-13T14:34:24.201691Z",
     "iopub.status.busy": "2021-08-13T14:34:24.201067Z",
     "iopub.status.idle": "2021-08-13T14:34:24.404590Z",
     "shell.execute_reply": "2021-08-13T14:34:24.405012Z",
     "shell.execute_reply.started": "2021-08-13T08:25:14.860411Z"
    },
    "papermill": {
     "duration": 0.249407,
     "end_time": "2021-08-13T14:34:24.405160",
     "exception": false,
     "start_time": "2021-08-13T14:34:24.155753",
     "status": "completed"
    },
    "tags": []
   },
   "outputs": [
    {
     "data": {
      "text/plain": [
       "<AxesSubplot:>"
      ]
     },
     "execution_count": 11,
     "metadata": {},
     "output_type": "execute_result"
    },
    {
     "data": {
      "image/png": "[encoded data removed]",
      "text/plain": [
       "<Figure size 432x288 with 1 Axes>"
      ]
     },
     "metadata": {
      "needs_background": "light"
     },
     "output_type": "display_data"
    }
   ],
   "source": [
    "train['num_tokens_context'].hist()"
   ]
  },
  {
   "cell_type": "code",
   "execution_count": 12,
   "id": "393615fa",
   "metadata": {
    "execution": {
     "iopub.execute_input": "2021-08-13T14:34:24.493521Z",
     "iopub.status.busy": "2021-08-13T14:34:24.492697Z",
     "iopub.status.idle": "2021-08-13T14:34:24.495448Z",
     "shell.execute_reply": "2021-08-13T14:34:24.495050Z",
     "shell.execute_reply.started": "2021-08-13T08:25:15.057412Z"
    },
    "papermill": {
     "duration": 0.04824,
     "end_time": "2021-08-13T14:34:24.495558",
     "exception": false,
     "start_time": "2021-08-13T14:34:24.447318",
     "status": "completed"
    },
    "tags": []
   },
   "outputs": [],
   "source": [
    "max_length = 384 # The maximum length of a feature (question and context)\n",
    "doc_stride = 128 # The authorized overlap between two part of the context when splitting it is needed."
   ]
  },
  {
   "cell_type": "code",
   "execution_count": 13,
   "id": "005567f5",
   "metadata": {
    "execution": {
     "iopub.execute_input": "2021-08-13T14:34:24.583602Z",
     "iopub.status.busy": "2021-08-13T14:34:24.582730Z",
     "iopub.status.idle": "2021-08-13T14:34:24.584869Z",
     "shell.execute_reply": "2021-08-13T14:34:24.585254Z",
     "shell.execute_reply.started": "2021-08-13T08:25:15.064777Z"
    },
    "papermill": {
     "duration": 0.048072,
     "end_time": "2021-08-13T14:34:24.585394",
     "exception": false,
     "start_time": "2021-08-13T14:34:24.537322",
     "status": "completed"
    },
    "tags": []
   },
   "outputs": [],
   "source": [
    "pad_on_right = tokenizer.padding_side == \"right\""
   ]
  },
  {
   "cell_type": "code",
   "execution_count": 14,
   "id": "71adc6da",
   "metadata": {
    "execution": {
     "iopub.execute_input": "2021-08-13T14:34:24.684232Z",
     "iopub.status.busy": "2021-08-13T14:34:24.683204Z",
     "iopub.status.idle": "2021-08-13T14:34:24.685705Z",
     "shell.execute_reply": "2021-08-13T14:34:24.686154Z",
     "shell.execute_reply.started": "2021-08-13T08:25:15.072288Z"
    },
    "papermill": {
     "duration": 0.059036,
     "end_time": "2021-08-13T14:34:24.686305",
     "exception": false,
     "start_time": "2021-08-13T14:34:24.627269",
     "status": "completed"
    },
    "tags": []
   },
   "outputs": [],
   "source": [
    "def prepare_train_features(examples):\n",
    "    # Some of the questions have lots of whitespace on the left, which is not useful and will make the\n",
    "    # truncation of the context fail (the tokenized question will take a lots of space). So we remove that\n",
    "    # left whitespace\n",
    "    examples[\"question\"] = [q.lstrip() for q in examples[\"question\"]]\n",
    "\n",
    "    # Tokenize our examples with truncation and padding, but keep the overflows using a stride. This results\n",
    "    # in one example possible giving several features when a context is long, each of those features having a\n",
    "    # context that overlaps a bit the context of the previous feature.\n",
    "    tokenized_examples = tokenizer(\n",
    "        examples[\"question\" if pad_on_right else \"context\"],\n",
    "        examples[\"context\" if pad_on_right else \"question\"],\n",
    "        truncation=\"only_second\" if pad_on_right else \"only_first\",\n",
    "        max_length=max_length,\n",
    "        stride=doc_stride,\n",
    "        return_overflowing_tokens=True,\n",
    "        return_offsets_mapping=True,\n",
    "        padding=\"max_length\",\n",
    "    )\n",
    "\n",
    "    # Since one example might give us several features if it has a long context, we need a map from a feature to\n",
    "    # its corresponding example. This key gives us just that.\n",
    "    sample_mapping = tokenized_examples.pop(\"overflow_to_sample_mapping\")\n",
    "    # The offset mappings will give us a map from token to character position in the original context. This will\n",
    "    # help us compute the start_positions and end_positions.\n",
    "    offset_mapping = tokenized_examples.pop(\"offset_mapping\")\n",
    "\n",
    "    # Let's label those examples!\n",
    "    tokenized_examples[\"start_positions\"] = []\n",
    "    tokenized_examples[\"end_positions\"] = []\n",
    "\n",
    "    for i, offsets in enumerate(offset_mapping):\n",
    "        # We will label impossible answers with the index of the CLS token.\n",
    "        input_ids = tokenized_examples[\"input_ids\"][i]\n",
    "        cls_index = input_ids.index(tokenizer.cls_token_id)\n",
    "\n",
    "        # Grab the sequence corresponding to that example (to know what is the context and what is the question).\n",
    "        sequence_ids = tokenized_examples.sequence_ids(i)\n",
    "\n",
    "        # One example can give several spans, this is the index of the example containing this span of text.\n",
    "        sample_index = sample_mapping[i]\n",
    "        answers = examples[\"answers\"][sample_index]\n",
    "        # If no answers are given, set the cls_index as answer.\n",
    "        if len(answers[\"answer_start\"]) == 0:\n",
    "            tokenized_examples[\"start_positions\"].append(cls_index)\n",
    "            tokenized_examples[\"end_positions\"].append(cls_index)\n",
    "        else:\n",
    "            # Start/end character index of the answer in the text.\n",
    "            start_char = answers[\"answer_start\"][0]\n",
    "            end_char = start_char + len(answers[\"text\"][0])\n",
    "\n",
    "            # Start token index of the current span in the text.\n",
    "            token_start_index = 0\n",
    "            while sequence_ids[token_start_index] != (1 if pad_on_right else 0):\n",
    "                token_start_index += 1\n",
    "\n",
    "            # End token index of the current span in the text.\n",
    "            token_end_index = len(input_ids) - 1\n",
    "            while sequence_ids[token_end_index] != (1 if pad_on_right else 0):\n",
    "                token_end_index -= 1\n",
    "\n",
    "            # Detect if the answer is out of the span (in which case this feature is labeled with the CLS index).\n",
    "            if not (offsets[token_start_index][0] <= start_char and offsets[token_end_index][1] >= end_char):\n",
    "                tokenized_examples[\"start_positions\"].append(cls_index)\n",
    "                tokenized_examples[\"end_positions\"].append(cls_index)\n",
    "            else:\n",
    "                # Otherwise move the token_start_index and token_end_index to the two ends of the answer.\n",
    "                # Note: we could go after the last offset if the answer is the last word (edge case).\n",
    "                while token_start_index < len(offsets) and offsets[token_start_index][0] <= start_char:\n",
    "                    token_start_index += 1\n",
    "                tokenized_examples[\"start_positions\"].append(token_start_index - 1)\n",
    "                while offsets[token_end_index][1] >= end_char:\n",
    "                    token_end_index -= 1\n",
    "                tokenized_examples[\"end_positions\"].append(token_end_index + 1)\n",
    "\n",
    "    return tokenized_examples"
   ]
  },
  {
   "cell_type": "code",
   "execution_count": 15,
   "id": "12016618",
   "metadata": {
    "execution": {
     "iopub.execute_input": "2021-08-13T14:34:24.775788Z",
     "iopub.status.busy": "2021-08-13T14:34:24.775123Z",
     "iopub.status.idle": "2021-08-13T14:34:34.960185Z",
     "shell.execute_reply": "2021-08-13T14:34:34.957478Z",
     "shell.execute_reply.started": "2021-08-13T08:25:15.092509Z"
    },
    "papermill": {
     "duration": 10.232137,
     "end_time": "2021-08-13T14:34:34.960380",
     "exception": false,
     "start_time": "2021-08-13T14:34:24.728243",
     "status": "completed"
    },
    "tags": []
   },
   "outputs": [
    {
     "name": "stdout",
     "output_type": "stream",
     "text": [
      "\u001b[31mERROR: pip's dependency resolver does not currently take into account all the packages that are installed. This behaviour is the source of the following dependency conflicts.\r\n",
      "tensorflow-cloud 0.1.13 requires tensorflow<3.0,>=1.15.0, which is not installed.\r\n",
      "dask-cudf 21.6.1+2.g101fc0fda4 requires cupy-cuda112, which is not installed.\r\n",
      "cudf 21.6.1+2.g101fc0fda4 requires cupy-cuda110, which is not installed.\r\n",
      "s3fs 2021.6.1 requires fsspec==2021.06.1, but you have fsspec 2021.6.0 which is incompatible.\r\n",
      "pytorch-lightning 1.3.8 requires fsspec[http]!=2021.06.0,>=2021.05.0, but you have fsspec 2021.6.0 which is incompatible.\r\n",
      "dask-cudf 21.6.1+2.g101fc0fda4 requires dask<=2021.5.1,>=2021.4.0, but you have dask 2021.6.2 which is incompatible.\r\n",
      "dask-cudf 21.6.1+2.g101fc0fda4 requires distributed<=2021.5.1,>=2.22.0, but you have distributed 2021.6.2 which is incompatible.\u001b[0m\r\n"
     ]
    }
   ],
   "source": [
    "!pip uninstall fsspec -qq -y\n",
    "!pip install --no-index --find-links ../input/hf-datasets/wheels datasets -qq"
   ]
  },
  {
   "cell_type": "code",
   "execution_count": 16,
   "id": "f6b94529",
   "metadata": {
    "execution": {
     "iopub.execute_input": "2021-08-13T14:34:35.073757Z",
     "iopub.status.busy": "2021-08-13T14:34:35.072804Z",
     "iopub.status.idle": "2021-08-13T14:34:35.422519Z",
     "shell.execute_reply": "2021-08-13T14:34:35.421394Z",
     "shell.execute_reply.started": "2021-08-13T08:25:23.423247Z"
    },
    "papermill": {
     "duration": 0.402115,
     "end_time": "2021-08-13T14:34:35.422653",
     "exception": false,
     "start_time": "2021-08-13T14:34:35.020538",
     "status": "completed"
    },
    "tags": []
   },
   "outputs": [],
   "source": [
    "from datasets import Dataset"
   ]
  },
  {
   "cell_type": "code",
   "execution_count": 17,
   "id": "3d00abd8",
   "metadata": {
    "execution": {
     "iopub.execute_input": "2021-08-13T14:34:35.524324Z",
     "iopub.status.busy": "2021-08-13T14:34:35.523381Z",
     "iopub.status.idle": "2021-08-13T14:34:35.525755Z",
     "shell.execute_reply": "2021-08-13T14:34:35.526327Z",
     "shell.execute_reply.started": "2021-08-13T08:25:23.862143Z"
    },
    "papermill": {
     "duration": 0.058427,
     "end_time": "2021-08-13T14:34:35.526476",
     "exception": false,
     "start_time": "2021-08-13T14:34:35.468049",
     "status": "completed"
    },
    "tags": []
   },
   "outputs": [],
   "source": [
    "def convert_answers(r):\n",
    "    start = r[0]\n",
    "    text = r[1]\n",
    "    return {\n",
    "        'answer_start': [start],\n",
    "        'text': [text]\n",
    "    }"
   ]
  },
  {
   "cell_type": "code",
   "execution_count": 18,
   "id": "91279b39",
   "metadata": {
    "execution": {
     "iopub.execute_input": "2021-08-13T14:34:35.631333Z",
     "iopub.status.busy": "2021-08-13T14:34:35.630488Z",
     "iopub.status.idle": "2021-08-13T14:34:35.656950Z",
     "shell.execute_reply": "2021-08-13T14:34:35.656401Z",
     "shell.execute_reply.started": "2021-08-13T08:25:23.868461Z"
    },
    "papermill": {
     "duration": 0.084167,
     "end_time": "2021-08-13T14:34:35.657096",
     "exception": false,
     "start_time": "2021-08-13T14:34:35.572929",
     "status": "completed"
    },
    "tags": []
   },
   "outputs": [],
   "source": [
    "train = train.sample(frac=1, random_state=42)\n",
    "train['answers'] = train[['answer_start', 'answer_text']].apply(convert_answers, axis=1)"
   ]
  },
  {
   "cell_type": "code",
   "execution_count": 19,
   "id": "562897df",
   "metadata": {
    "execution": {
     "iopub.execute_input": "2021-08-13T14:34:35.765353Z",
     "iopub.status.busy": "2021-08-13T14:34:35.763640Z",
     "iopub.status.idle": "2021-08-13T14:34:35.766082Z",
     "shell.execute_reply": "2021-08-13T14:34:35.766683Z",
     "shell.execute_reply.started": "2021-08-13T08:25:23.90193Z"
    },
    "papermill": {
     "duration": 0.059954,
     "end_time": "2021-08-13T14:34:35.766827",
     "exception": false,
     "start_time": "2021-08-13T14:34:35.706873",
     "status": "completed"
    },
    "tags": []
   },
   "outputs": [],
   "source": [
    "df_train = train[:-64].reset_index(drop=True)\n",
    "df_valid = train[-64:].reset_index(drop=True)"
   ]
  },
  {
   "cell_type": "code",
   "execution_count": 20,
   "id": "ea816301",
   "metadata": {
    "execution": {
     "iopub.execute_input": "2021-08-13T14:34:35.870425Z",
     "iopub.status.busy": "2021-08-13T14:34:35.869327Z",
     "iopub.status.idle": "2021-08-13T14:34:35.954392Z",
     "shell.execute_reply": "2021-08-13T14:34:35.953734Z",
     "shell.execute_reply.started": "2021-08-13T08:25:23.909747Z"
    },
    "papermill": {
     "duration": 0.138505,
     "end_time": "2021-08-13T14:34:35.954528",
     "exception": false,
     "start_time": "2021-08-13T14:34:35.816023",
     "status": "completed"
    },
    "tags": []
   },
   "outputs": [],
   "source": [
    "train_dataset = Dataset.from_pandas(df_train)\n",
    "valid_dataset = Dataset.from_pandas(df_valid)"
   ]
  },
  {
   "cell_type": "code",
   "execution_count": 21,
   "id": "e510fc0f",
   "metadata": {
    "execution": {
     "iopub.execute_input": "2021-08-13T14:34:36.062025Z",
     "iopub.status.busy": "2021-08-13T14:34:36.061309Z",
     "iopub.status.idle": "2021-08-13T14:34:36.064454Z",
     "shell.execute_reply": "2021-08-13T14:34:36.064875Z",
     "shell.execute_reply.started": "2021-08-13T08:25:23.974759Z"
    },
    "papermill": {
     "duration": 0.062828,
     "end_time": "2021-08-13T14:34:36.065031",
     "exception": false,
     "start_time": "2021-08-13T14:34:36.002203",
     "status": "completed"
    },
    "tags": []
   },
   "outputs": [
    {
     "data": {
      "text/plain": [
       "{'id': 'cd1339bdd',\n",
       " 'context': 'एरीजोना (English: Arizona) संयुक्त राज्य अमेरिका के दक्षिणपश्चिमी हिस्से में स्थित राज्य है। इसका सबसे बड़ा शहर और राजधानी फ़िनक्स है। दूसरा सबसे बड़ा राज्य टक्सन है और उसके बाद फ़िनक्स के महानगर क्षेत्र स्थित शहर मेसा, ग्लेनडेल, चंदलर और स्कोत्ट्सडेल है।\\nएरीजोना संयुक्त राज्यों में शामिल होने वाला ४८व राज्य था जिसे की इसमें १४ फरबरी १९१२ को समिलित किया गया। इसी दिन इस राज्य की देश में माने जाने वाली भूमि की वर्षागाठ भी थी। एरीजोना अपने रेगिस्तानी मौसम, भयंकर गर्मी और हल्की ठंड के लिए जाना जाता है। पर राज्य के उच्च इलाकों में बहुत पहाड़ व जंगल है, इसी कारण वहाँ का मौसम अन्य राज्य के मुकाबले ठंडा रहता है। जुलाई १ २००६ के अनुसार एरीजोना देश में आबादी के हिसाब से सबसे तेजी से बढ़ता राज्य है। इससे पहले यह दर्जा नेवादा के पास था।\\nराज्य का एक-चौथाई इलाका मूल अमेरिकी आदिवासी के लिये संरक्षित है। राज्य की आधिकरिक भाषा अँग्रेजी है जिसे बोलने वाले जनसंख्या के 74 प्रतिशत है। स्पेनी 19.5 प्रतिशत द्वारा बोली जाती है। 2015 में राज्य की आबादी 68,28,065 अनुमानित की गई है। जिस हिसाब से उसका अमेरिकी राज्यों में 14वां स्थान है।\\n\\n\\nश्रेणी:संयुक्त राज्य अमेरिका के राज्य',\n",
       " 'question': 'एरिज़ोना की राजधानी क्या है?',\n",
       " 'answer_text': 'फ़िनक्स',\n",
       " 'answer_start': 123,\n",
       " 'language': 'hindi',\n",
       " 'num_tokens_context': 300,\n",
       " 'answers': {'answer_start': [123], 'text': ['फ़िनक्स']}}"
      ]
     },
     "execution_count": 21,
     "metadata": {},
     "output_type": "execute_result"
    }
   ],
   "source": [
    "train_dataset[0]"
   ]
  },
  {
   "cell_type": "code",
   "execution_count": 22,
   "id": "18b84597",
   "metadata": {
    "execution": {
     "iopub.execute_input": "2021-08-13T14:34:36.200739Z",
     "iopub.status.busy": "2021-08-13T14:34:36.199571Z",
     "iopub.status.idle": "2021-08-13T14:35:14.282346Z",
     "shell.execute_reply": "2021-08-13T14:35:14.281907Z",
     "shell.execute_reply.started": "2021-08-13T08:25:23.986726Z"
    },
    "papermill": {
     "duration": 38.172461,
     "end_time": "2021-08-13T14:35:14.282473",
     "exception": false,
     "start_time": "2021-08-13T14:34:36.110012",
     "status": "completed"
    },
    "tags": []
   },
   "outputs": [
    {
     "data": {
      "application/vnd.jupyter.widget-view+json": {
       "model_id": "961df39243b8451ea0149d8c4471a189",
       "version_major": 2,
       "version_minor": 0
      },
      "text/plain": [
       "  0%|          | 0/2 [00:00<?, ?ba/s]"
      ]
     },
     "metadata": {},
     "output_type": "display_data"
    },
    {
     "data": {
      "application/vnd.jupyter.widget-view+json": {
       "model_id": "f548951f50a44329ae57fe2e1889ad33",
       "version_major": 2,
       "version_minor": 0
      },
      "text/plain": [
       "  0%|          | 0/1 [00:00<?, ?ba/s]"
      ]
     },
     "metadata": {},
     "output_type": "display_data"
    }
   ],
   "source": [
    "tokenized_train_ds = train_dataset.map(prepare_train_features, batched=True, remove_columns=train_dataset.column_names)\n",
    "tokenized_valid_ds = valid_dataset.map(prepare_train_features, batched=True, remove_columns=train_dataset.column_names)"
   ]
  },
  {
   "cell_type": "code",
   "execution_count": 23,
   "id": "41e1ae77",
   "metadata": {
    "execution": {
     "iopub.execute_input": "2021-08-13T14:35:14.374247Z",
     "iopub.status.busy": "2021-08-13T14:35:14.373622Z",
     "iopub.status.idle": "2021-08-13T14:35:41.618519Z",
     "shell.execute_reply": "2021-08-13T14:35:41.619283Z",
     "shell.execute_reply.started": "2021-08-13T08:26:03.898558Z"
    },
    "papermill": {
     "duration": 27.293196,
     "end_time": "2021-08-13T14:35:41.619460",
     "exception": false,
     "start_time": "2021-08-13T14:35:14.326264",
     "status": "completed"
    },
    "tags": []
   },
   "outputs": [],
   "source": [
    "from transformers import AutoModelForQuestionAnswering, TrainingArguments, Trainer\n",
    "\n",
    "model = AutoModelForQuestionAnswering.from_pretrained(model_checkpoint)"
   ]
  },
  {
   "cell_type": "code",
   "execution_count": 24,
   "id": "8f2e7ce0",
   "metadata": {
    "execution": {
     "iopub.execute_input": "2021-08-13T14:35:41.722643Z",
     "iopub.status.busy": "2021-08-13T14:35:41.720802Z",
     "iopub.status.idle": "2021-08-13T14:35:41.725052Z",
     "shell.execute_reply": "2021-08-13T14:35:41.724603Z",
     "shell.execute_reply.started": "2021-08-13T08:26:14.078755Z"
    },
    "papermill": {
     "duration": 0.055698,
     "end_time": "2021-08-13T14:35:41.725220",
     "exception": false,
     "start_time": "2021-08-13T14:35:41.669522",
     "status": "completed"
    },
    "tags": []
   },
   "outputs": [
    {
     "name": "stdout",
     "output_type": "stream",
     "text": [
      "env: WANDB_DISABLED=True\n"
     ]
    }
   ],
   "source": [
    "%env WANDB_DISABLED=True"
   ]
  },
  {
   "cell_type": "code",
   "execution_count": 25,
   "id": "b7dde9d1",
   "metadata": {
    "execution": {
     "iopub.execute_input": "2021-08-13T14:35:41.824896Z",
     "iopub.status.busy": "2021-08-13T14:35:41.823932Z",
     "iopub.status.idle": "2021-08-13T14:35:41.883282Z",
     "shell.execute_reply": "2021-08-13T14:35:41.883714Z",
     "shell.execute_reply.started": "2021-08-13T08:26:14.088388Z"
    },
    "papermill": {
     "duration": 0.108964,
     "end_time": "2021-08-13T14:35:41.883866",
     "exception": false,
     "start_time": "2021-08-13T14:35:41.774902",
     "status": "completed"
    },
    "tags": []
   },
   "outputs": [
    {
     "name": "stderr",
     "output_type": "stream",
     "text": [
      "Using the `WAND_DISABLED` environment variable is deprecated and will be removed in v5. Use the --report_to flag to control the integrations used for logging result (for instance --report_to none).\n"
     ]
    }
   ],
   "source": [
    "args = TrainingArguments(\n",
    "    f\"chaii-qa\",\n",
    "    evaluation_strategy = \"epoch\",\n",
    "    save_strategy = \"epoch\",\n",
    "    learning_rate=3e-5,\n",
    "    warmup_ratio=0.1,\n",
    "    gradient_accumulation_steps=8,\n",
    "    per_device_train_batch_size=batch_size,\n",
    "    per_device_eval_batch_size=batch_size,\n",
    "    num_train_epochs=1,\n",
    "    weight_decay=0.01,\n",
    ")"
   ]
  },
  {
   "cell_type": "code",
   "execution_count": 26,
   "id": "3b950505",
   "metadata": {
    "execution": {
     "iopub.execute_input": "2021-08-13T14:35:41.983982Z",
     "iopub.status.busy": "2021-08-13T14:35:41.983366Z",
     "iopub.status.idle": "2021-08-13T14:35:41.987703Z",
     "shell.execute_reply": "2021-08-13T14:35:41.987244Z",
     "shell.execute_reply.started": "2021-08-13T08:26:14.143417Z"
    },
    "papermill": {
     "duration": 0.058518,
     "end_time": "2021-08-13T14:35:41.987815",
     "exception": false,
     "start_time": "2021-08-13T14:35:41.929297",
     "status": "completed"
    },
    "tags": []
   },
   "outputs": [],
   "source": [
    "from transformers import default_data_collator\n",
    "\n",
    "data_collator = default_data_collator"
   ]
  },
  {
   "cell_type": "code",
   "execution_count": 27,
   "id": "746f05c7",
   "metadata": {
    "execution": {
     "iopub.execute_input": "2021-08-13T14:35:42.088717Z",
     "iopub.status.busy": "2021-08-13T14:35:42.087770Z",
     "iopub.status.idle": "2021-08-13T14:35:50.297459Z",
     "shell.execute_reply": "2021-08-13T14:35:50.297863Z",
     "shell.execute_reply.started": "2021-08-13T08:26:14.150129Z"
    },
    "papermill": {
     "duration": 8.2652,
     "end_time": "2021-08-13T14:35:50.298071",
     "exception": false,
     "start_time": "2021-08-13T14:35:42.032871",
     "status": "completed"
    },
    "tags": []
   },
   "outputs": [],
   "source": [
    "trainer = Trainer(\n",
    "    model,\n",
    "    args,\n",
    "    train_dataset=tokenized_train_ds,\n",
    "    eval_dataset=tokenized_valid_ds,\n",
    "    data_collator=data_collator,\n",
    "    tokenizer=tokenizer,\n",
    ")"
   ]
  },
  {
   "cell_type": "code",
   "execution_count": 28,
   "id": "93d2ce5e",
   "metadata": {
    "execution": {
     "iopub.execute_input": "2021-08-13T14:35:50.587047Z",
     "iopub.status.busy": "2021-08-13T14:35:50.586043Z",
     "iopub.status.idle": "2021-08-13T15:10:05.193683Z",
     "shell.execute_reply": "2021-08-13T15:10:05.192769Z",
     "shell.execute_reply.started": "2021-08-13T08:26:18.489997Z"
    },
    "papermill": {
     "duration": 2054.847773,
     "end_time": "2021-08-13T15:10:05.193869",
     "exception": false,
     "start_time": "2021-08-13T14:35:50.346096",
     "status": "completed"
    },
    "tags": []
   },
   "outputs": [
    {
     "data": {
      "text/html": [
       "\n",
       "    <div>\n",
       "      \n",
       "      <progress value='435' max='435' style='width:300px; height:20px; vertical-align: middle;'></progress>\n",
       "      [435/435 34:06, Epoch 0/1]\n",
       "    </div>\n",
       "    <table border=\"1\" class=\"dataframe\">\n",
       "  <thead>\n",
       "    <tr style=\"text-align: left;\">\n",
       "      <th>Epoch</th>\n",
       "      <th>Training Loss</th>\n",
       "      <th>Validation Loss</th>\n",
       "    </tr>\n",
       "  </thead>\n",
       "  <tbody>\n",
       "    <tr>\n",
       "      <td>0</td>\n",
       "      <td>No log</td>\n",
       "      <td>0.264647</td>\n",
       "    </tr>\n",
       "  </tbody>\n",
       "</table><p>"
      ],
      "text/plain": [
       "<IPython.core.display.HTML object>"
      ]
     },
     "metadata": {},
     "output_type": "display_data"
    },
    {
     "data": {
      "text/plain": [
       "TrainOutput(global_step=435, training_loss=0.26519854315396013, metrics={'train_runtime': 2041.6176, 'train_samples_per_second': 0.213, 'total_flos': 0, 'epoch': 1.0, 'init_mem_cpu_alloc_delta': 134000640, 'init_mem_gpu_alloc_delta': 2235376640, 'init_mem_cpu_peaked_delta': 1459953664, 'init_mem_gpu_peaked_delta': 0, 'train_mem_cpu_alloc_delta': 86249472, 'train_mem_gpu_alloc_delta': 6733405184, 'train_mem_cpu_peaked_delta': 3083046912, 'train_mem_gpu_peaked_delta': 5504041984})"
      ]
     },
     "execution_count": 28,
     "metadata": {},
     "output_type": "execute_result"
    }
   ],
   "source": [
    "trainer.train()"
   ]
  },
  {
   "cell_type": "code",
   "execution_count": 29,
   "id": "8dcffa8e",
   "metadata": {
    "execution": {
     "iopub.execute_input": "2021-08-13T15:10:07.687554Z",
     "iopub.status.busy": "2021-08-13T15:10:07.686557Z",
     "iopub.status.idle": "2021-08-13T15:10:30.102678Z",
     "shell.execute_reply": "2021-08-13T15:10:30.101881Z",
     "shell.execute_reply.started": "2021-08-13T09:14:52.191674Z"
    },
    "papermill": {
     "duration": 23.630245,
     "end_time": "2021-08-13T15:10:30.102854",
     "exception": false,
     "start_time": "2021-08-13T15:10:06.472609",
     "status": "completed"
    },
    "tags": []
   },
   "outputs": [],
   "source": [
    "trainer.save_model(\"chaii-bert-trained\")"
   ]
  },
  {
   "cell_type": "code",
   "execution_count": 30,
   "id": "b2fecc5b",
   "metadata": {
    "execution": {
     "iopub.execute_input": "2021-08-13T15:10:34.663767Z",
     "iopub.status.busy": "2021-08-13T15:10:34.662940Z",
     "iopub.status.idle": "2021-08-13T15:10:34.667085Z",
     "shell.execute_reply": "2021-08-13T15:10:34.666634Z",
     "shell.execute_reply.started": "2021-08-13T09:15:18.676348Z"
    },
    "papermill": {
     "duration": 0.247709,
     "end_time": "2021-08-13T15:10:34.667221",
     "exception": false,
     "start_time": "2021-08-13T15:10:34.419512",
     "status": "completed"
    },
    "tags": []
   },
   "outputs": [],
   "source": [
    "def prepare_validation_features(examples):\n",
    "    # Some of the questions have lots of whitespace on the left, which is not useful and will make the\n",
    "    # truncation of the context fail (the tokenized question will take a lots of space). So we remove that\n",
    "    # left whitespace\n",
    "    examples[\"question\"] = [q.lstrip() for q in examples[\"question\"]]\n",
    "\n",
    "    # Tokenize our examples with truncation and maybe padding, but keep the overflows using a stride. This results\n",
    "    # in one example possible giving several features when a context is long, each of those features having a\n",
    "    # context that overlaps a bit the context of the previous feature.\n",
    "    tokenized_examples = tokenizer(\n",
    "        examples[\"question\" if pad_on_right else \"context\"],\n",
    "        examples[\"context\" if pad_on_right else \"question\"],\n",
    "        truncation=\"only_second\" if pad_on_right else \"only_first\",\n",
    "        max_length=max_length,\n",
    "        stride=doc_stride,\n",
    "        return_overflowing_tokens=True,\n",
    "        return_offsets_mapping=True,\n",
    "        padding=\"max_length\",\n",
    "    )\n",
    "\n",
    "    # Since one example might give us several features if it has a long context, we need a map from a feature to\n",
    "    # its corresponding example. This key gives us just that.\n",
    "    sample_mapping = tokenized_examples.pop(\"overflow_to_sample_mapping\")\n",
    "\n",
    "    # We keep the example_id that gave us this feature and we will store the offset mappings.\n",
    "    tokenized_examples[\"example_id\"] = []\n",
    "\n",
    "    for i in range(len(tokenized_examples[\"input_ids\"])):\n",
    "        # Grab the sequence corresponding to that example (to know what is the context and what is the question).\n",
    "        sequence_ids = tokenized_examples.sequence_ids(i)\n",
    "        context_index = 1 if pad_on_right else 0\n",
    "\n",
    "        # One example can give several spans, this is the index of the example containing this span of text.\n",
    "        sample_index = sample_mapping[i]\n",
    "        tokenized_examples[\"example_id\"].append(examples[\"id\"][sample_index])\n",
    "\n",
    "        # Set to None the offset_mapping that are not part of the context so it's easy to determine if a token\n",
    "        # position is part of the context or not.\n",
    "        tokenized_examples[\"offset_mapping\"][i] = [\n",
    "            (o if sequence_ids[k] == context_index else None)\n",
    "            for k, o in enumerate(tokenized_examples[\"offset_mapping\"][i])\n",
    "        ]\n",
    "\n",
    "    return tokenized_examples"
   ]
  },
  {
   "cell_type": "code",
   "execution_count": 31,
   "id": "f037d11a",
   "metadata": {
    "execution": {
     "iopub.execute_input": "2021-08-13T15:10:38.948624Z",
     "iopub.status.busy": "2021-08-13T15:10:38.946711Z",
     "iopub.status.idle": "2021-08-13T15:10:43.556601Z",
     "shell.execute_reply": "2021-08-13T15:10:43.556153Z",
     "shell.execute_reply.started": "2021-08-13T09:15:18.689782Z"
    },
    "papermill": {
     "duration": 6.040362,
     "end_time": "2021-08-13T15:10:43.556725",
     "exception": false,
     "start_time": "2021-08-13T15:10:37.516363",
     "status": "completed"
    },
    "tags": []
   },
   "outputs": [
    {
     "data": {
      "application/vnd.jupyter.widget-view+json": {
       "model_id": "305a7c3761df4e85a1e76d3459ba6f95",
       "version_major": 2,
       "version_minor": 0
      },
      "text/plain": [
       "  0%|          | 0/1 [00:00<?, ?ba/s]"
      ]
     },
     "metadata": {},
     "output_type": "display_data"
    }
   ],
   "source": [
    "validation_features = valid_dataset.map(\n",
    "    prepare_validation_features,\n",
    "    batched=True,\n",
    "    remove_columns=valid_dataset.column_names\n",
    ")"
   ]
  },
  {
   "cell_type": "code",
   "execution_count": 32,
   "id": "268c0ec3",
   "metadata": {
    "execution": {
     "iopub.execute_input": "2021-08-13T15:10:45.737487Z",
     "iopub.status.busy": "2021-08-13T15:10:45.735846Z",
     "iopub.status.idle": "2021-08-13T15:10:45.744794Z",
     "shell.execute_reply": "2021-08-13T15:10:45.744339Z",
     "shell.execute_reply.started": "2021-08-13T09:15:25.788513Z"
    },
    "papermill": {
     "duration": 2.142008,
     "end_time": "2021-08-13T15:10:45.744914",
     "exception": false,
     "start_time": "2021-08-13T15:10:43.602906",
     "status": "completed"
    },
    "tags": []
   },
   "outputs": [
    {
     "data": {
      "text/plain": [
       "816"
      ]
     },
     "execution_count": 32,
     "metadata": {},
     "output_type": "execute_result"
    }
   ],
   "source": [
    "len(validation_features)"
   ]
  },
  {
   "cell_type": "code",
   "execution_count": 33,
   "id": "360e67e3",
   "metadata": {
    "execution": {
     "iopub.execute_input": "2021-08-13T15:10:47.191106Z",
     "iopub.status.busy": "2021-08-13T15:10:47.188040Z",
     "iopub.status.idle": "2021-08-13T15:10:47.194229Z",
     "shell.execute_reply": "2021-08-13T15:10:47.191925Z",
     "shell.execute_reply.started": "2021-08-13T09:15:25.795941Z"
    },
    "papermill": {
     "duration": 0.167192,
     "end_time": "2021-08-13T15:10:47.194415",
     "exception": false,
     "start_time": "2021-08-13T15:10:47.027223",
     "status": "completed"
    },
    "tags": []
   },
   "outputs": [
    {
     "data": {
      "text/plain": [
       "Dataset({\n",
       "    features: ['attention_mask', 'example_id', 'input_ids', 'offset_mapping'],\n",
       "    num_rows: 816\n",
       "})"
      ]
     },
     "execution_count": 33,
     "metadata": {},
     "output_type": "execute_result"
    }
   ],
   "source": [
    "validation_features"
   ]
  },
  {
   "cell_type": "code",
   "execution_count": 34,
   "id": "5862bdd4",
   "metadata": {
    "execution": {
     "iopub.execute_input": "2021-08-13T15:10:47.418141Z",
     "iopub.status.busy": "2021-08-13T15:10:47.417090Z",
     "iopub.status.idle": "2021-08-13T15:10:48.940922Z",
     "shell.execute_reply": "2021-08-13T15:10:48.933663Z",
     "shell.execute_reply.started": "2021-08-13T09:15:46.412316Z"
    },
    "papermill": {
     "duration": 1.666698,
     "end_time": "2021-08-13T15:10:48.941064",
     "exception": false,
     "start_time": "2021-08-13T15:10:47.274366",
     "status": "completed"
    },
    "tags": []
   },
   "outputs": [
    {
     "data": {
      "application/vnd.jupyter.widget-view+json": {
       "model_id": "82035574702f440699494eaeba93a7ec",
       "version_major": 2,
       "version_minor": 0
      },
      "text/plain": [
       "  0%|          | 0/816 [00:00<?, ?ex/s]"
      ]
     },
     "metadata": {},
     "output_type": "display_data"
    },
    {
     "data": {
      "text/plain": [
       "Dataset({\n",
       "    features: ['attention_mask', 'input_ids'],\n",
       "    num_rows: 816\n",
       "})"
      ]
     },
     "execution_count": 34,
     "metadata": {},
     "output_type": "execute_result"
    }
   ],
   "source": [
    "valid_feats_small = validation_features.map(lambda example: example, remove_columns=['example_id', 'offset_mapping'])\n",
    "valid_feats_small"
   ]
  },
  {
   "cell_type": "code",
   "execution_count": 35,
   "id": "7a2a969b",
   "metadata": {
    "execution": {
     "iopub.execute_input": "2021-08-13T15:10:58.079473Z",
     "iopub.status.busy": "2021-08-13T15:10:58.078531Z",
     "iopub.status.idle": "2021-08-13T15:11:35.744576Z",
     "shell.execute_reply": "2021-08-13T15:11:35.744100Z",
     "shell.execute_reply.started": "2021-08-13T09:15:48.297546Z"
    },
    "papermill": {
     "duration": 46.755959,
     "end_time": "2021-08-13T15:11:35.744711",
     "exception": false,
     "start_time": "2021-08-13T15:10:48.988752",
     "status": "completed"
    },
    "tags": []
   },
   "outputs": [
    {
     "data": {
      "text/html": [
       "\n",
       "    <div>\n",
       "      \n",
       "      <progress value='221' max='204' style='width:300px; height:20px; vertical-align: middle;'></progress>\n",
       "      [204/204 00:49]\n",
       "    </div>\n",
       "    "
      ],
      "text/plain": [
       "<IPython.core.display.HTML object>"
      ]
     },
     "metadata": {},
     "output_type": "display_data"
    }
   ],
   "source": [
    "raw_predictions = trainer.predict(valid_feats_small)"
   ]
  },
  {
   "cell_type": "code",
   "execution_count": 36,
   "id": "a0251274",
   "metadata": {
    "execution": {
     "iopub.execute_input": "2021-08-13T15:11:35.855919Z",
     "iopub.status.busy": "2021-08-13T15:11:35.855276Z",
     "iopub.status.idle": "2021-08-13T15:11:35.859505Z",
     "shell.execute_reply": "2021-08-13T15:11:35.859106Z",
     "shell.execute_reply.started": "2021-08-13T09:16:26.187646Z"
    },
    "papermill": {
     "duration": 0.062915,
     "end_time": "2021-08-13T15:11:35.859632",
     "exception": false,
     "start_time": "2021-08-13T15:11:35.796717",
     "status": "completed"
    },
    "tags": []
   },
   "outputs": [],
   "source": [
    "# validation_features.set_format(type=validation_features.format[\"type\"], columns=list(validation_features.features.keys()))"
   ]
  },
  {
   "cell_type": "code",
   "execution_count": 37,
   "id": "232d9cd1",
   "metadata": {
    "execution": {
     "iopub.execute_input": "2021-08-13T15:11:35.971417Z",
     "iopub.status.busy": "2021-08-13T15:11:35.970328Z",
     "iopub.status.idle": "2021-08-13T15:11:35.972848Z",
     "shell.execute_reply": "2021-08-13T15:11:35.973237Z",
     "shell.execute_reply.started": "2021-08-13T09:16:26.19545Z"
    },
    "papermill": {
     "duration": 0.063664,
     "end_time": "2021-08-13T15:11:35.973376",
     "exception": false,
     "start_time": "2021-08-13T15:11:35.909712",
     "status": "completed"
    },
    "tags": []
   },
   "outputs": [],
   "source": [
    "max_answer_length = 30"
   ]
  },
  {
   "cell_type": "code",
   "execution_count": 38,
   "id": "b6dd0de9",
   "metadata": {
    "execution": {
     "iopub.execute_input": "2021-08-13T15:11:36.433695Z",
     "iopub.status.busy": "2021-08-13T15:11:36.425229Z",
     "iopub.status.idle": "2021-08-13T15:11:37.713261Z",
     "shell.execute_reply": "2021-08-13T15:11:37.712735Z",
     "shell.execute_reply.started": "2021-08-13T09:16:26.203094Z"
    },
    "papermill": {
     "duration": 1.692527,
     "end_time": "2021-08-13T15:11:37.713403",
     "exception": false,
     "start_time": "2021-08-13T15:11:36.020876",
     "status": "completed"
    },
    "tags": []
   },
   "outputs": [],
   "source": [
    "import collections\n",
    "\n",
    "examples = valid_dataset\n",
    "features = validation_features\n",
    "\n",
    "example_id_to_index = {k: i for i, k in enumerate(examples[\"id\"])}\n",
    "features_per_example = collections.defaultdict(list)\n",
    "for i, feature in enumerate(features):\n",
    "    features_per_example[example_id_to_index[feature[\"example_id\"]]].append(i)"
   ]
  },
  {
   "cell_type": "code",
   "execution_count": 39,
   "id": "041c00be",
   "metadata": {
    "execution": {
     "iopub.execute_input": "2021-08-13T15:11:37.829987Z",
     "iopub.status.busy": "2021-08-13T15:11:37.829313Z",
     "iopub.status.idle": "2021-08-13T15:11:37.833848Z",
     "shell.execute_reply": "2021-08-13T15:11:37.833369Z",
     "shell.execute_reply.started": "2021-08-13T09:16:27.524555Z"
    },
    "papermill": {
     "duration": 0.066512,
     "end_time": "2021-08-13T15:11:37.833993",
     "exception": false,
     "start_time": "2021-08-13T15:11:37.767481",
     "status": "completed"
    },
    "tags": []
   },
   "outputs": [],
   "source": [
    "from tqdm.auto import tqdm\n",
    "\n",
    "def postprocess_qa_predictions(examples, features, raw_predictions, n_best_size = 20, max_answer_length = 30):\n",
    "    all_start_logits, all_end_logits = raw_predictions\n",
    "    # Build a map example to its corresponding features.\n",
    "    example_id_to_index = {k: i for i, k in enumerate(examples[\"id\"])}\n",
    "    features_per_example = collections.defaultdict(list)\n",
    "    for i, feature in enumerate(features):\n",
    "        features_per_example[example_id_to_index[feature[\"example_id\"]]].append(i)\n",
    "\n",
    "    # The dictionaries we have to fill.\n",
    "    predictions = collections.OrderedDict()\n",
    "\n",
    "    # Logging.\n",
    "    print(f\"Post-processing {len(examples)} example predictions split into {len(features)} features.\")\n",
    "\n",
    "    # Let's loop over all the examples!\n",
    "    for example_index, example in enumerate(tqdm(examples)):\n",
    "        # Those are the indices of the features associated to the current example.\n",
    "        feature_indices = features_per_example[example_index]\n",
    "\n",
    "        min_null_score = None # Only used if squad_v2 is True.\n",
    "        valid_answers = []\n",
    "        \n",
    "        context = example[\"context\"]\n",
    "        # Looping through all the features associated to the current example.\n",
    "        for feature_index in feature_indices:\n",
    "            # We grab the predictions of the model for this feature.\n",
    "            start_logits = all_start_logits[feature_index]\n",
    "            end_logits = all_end_logits[feature_index]\n",
    "            # This is what will allow us to map some the positions in our logits to span of texts in the original\n",
    "            # context.\n",
    "            offset_mapping = features[feature_index][\"offset_mapping\"]\n",
    "\n",
    "            # Update minimum null prediction.\n",
    "            cls_index = features[feature_index][\"input_ids\"].index(tokenizer.cls_token_id)\n",
    "            feature_null_score = start_logits[cls_index] + end_logits[cls_index]\n",
    "            if min_null_score is None or min_null_score < feature_null_score:\n",
    "                min_null_score = feature_null_score\n",
    "\n",
    "            # Go through all possibilities for the `n_best_size` greater start and end logits.\n",
    "            start_indexes = np.argsort(start_logits)[-1 : -n_best_size - 1 : -1].tolist()\n",
    "            end_indexes = np.argsort(end_logits)[-1 : -n_best_size - 1 : -1].tolist()\n",
    "            for start_index in start_indexes:\n",
    "                for end_index in end_indexes:\n",
    "                    # Don't consider out-of-scope answers, either because the indices are out of bounds or correspond\n",
    "                    # to part of the input_ids that are not in the context.\n",
    "                    if (\n",
    "                        start_index >= len(offset_mapping)\n",
    "                        or end_index >= len(offset_mapping)\n",
    "                        or offset_mapping[start_index] is None\n",
    "                        or offset_mapping[end_index] is None\n",
    "                    ):\n",
    "                        continue\n",
    "                    # Don't consider answers with a length that is either < 0 or > max_answer_length.\n",
    "                    if end_index < start_index or end_index - start_index + 1 > max_answer_length:\n",
    "                        continue\n",
    "\n",
    "                    start_char = offset_mapping[start_index][0]\n",
    "                    end_char = offset_mapping[end_index][1]\n",
    "                    valid_answers.append(\n",
    "                        {\n",
    "                            \"score\": start_logits[start_index] + end_logits[end_index],\n",
    "                            \"text\": context[start_char: end_char]\n",
    "                        }\n",
    "                    )\n",
    "        \n",
    "        if len(valid_answers) > 0:\n",
    "            best_answer = sorted(valid_answers, key=lambda x: x[\"score\"], reverse=True)[0]\n",
    "        else:\n",
    "            # In the very rare edge case we have not a single non-null prediction, we create a fake prediction to avoid\n",
    "            # failure.\n",
    "            best_answer = {\"text\": \"\", \"score\": 0.0}\n",
    "        \n",
    "        # Let's pick our final answer: the best one or the null answer (only for squad_v2)\n",
    "        predictions[example[\"id\"]] = best_answer[\"text\"]\n",
    "\n",
    "    return predictions"
   ]
  },
  {
   "cell_type": "code",
   "execution_count": 40,
   "id": "4fe260a4",
   "metadata": {
    "execution": {
     "iopub.execute_input": "2021-08-13T15:11:39.388527Z",
     "iopub.status.busy": "2021-08-13T15:11:38.085641Z",
     "iopub.status.idle": "2021-08-13T15:11:42.556180Z",
     "shell.execute_reply": "2021-08-13T15:11:42.555268Z",
     "shell.execute_reply.started": "2021-08-13T09:16:27.542218Z"
    },
    "papermill": {
     "duration": 4.670274,
     "end_time": "2021-08-13T15:11:42.556307",
     "exception": false,
     "start_time": "2021-08-13T15:11:37.886033",
     "status": "completed"
    },
    "tags": []
   },
   "outputs": [
    {
     "name": "stdout",
     "output_type": "stream",
     "text": [
      "Post-processing 64 example predictions split into 816 features.\n"
     ]
    },
    {
     "data": {
      "application/vnd.jupyter.widget-view+json": {
       "model_id": "226fe9996beb4f5c9c4c89257262c4da",
       "version_major": 2,
       "version_minor": 0
      },
      "text/plain": [
       "  0%|          | 0/64 [00:00<?, ?it/s]"
      ]
     },
     "metadata": {},
     "output_type": "display_data"
    }
   ],
   "source": [
    "final_predictions = postprocess_qa_predictions(valid_dataset, validation_features, raw_predictions.predictions)"
   ]
  },
  {
   "cell_type": "code",
   "execution_count": 41,
   "id": "4cd9a05c",
   "metadata": {
    "execution": {
     "iopub.execute_input": "2021-08-13T15:11:42.678742Z",
     "iopub.status.busy": "2021-08-13T15:11:42.677752Z",
     "iopub.status.idle": "2021-08-13T15:11:42.680787Z",
     "shell.execute_reply": "2021-08-13T15:11:42.680345Z",
     "shell.execute_reply.started": "2021-08-13T09:16:31.911242Z"
    },
    "papermill": {
     "duration": 0.070187,
     "end_time": "2021-08-13T15:11:42.680903",
     "exception": false,
     "start_time": "2021-08-13T15:11:42.610716",
     "status": "completed"
    },
    "tags": []
   },
   "outputs": [],
   "source": [
    "references = [{\"id\": ex[\"id\"], \"answer\": ex[\"answers\"]['text'][0]} for ex in valid_dataset]"
   ]
  },
  {
   "cell_type": "code",
   "execution_count": 42,
   "id": "2d5e2297",
   "metadata": {
    "execution": {
     "iopub.execute_input": "2021-08-13T15:11:42.790511Z",
     "iopub.status.busy": "2021-08-13T15:11:42.788740Z",
     "iopub.status.idle": "2021-08-13T15:11:42.791222Z",
     "shell.execute_reply": "2021-08-13T15:11:42.791639Z",
     "shell.execute_reply.started": "2021-08-13T09:16:31.933551Z"
    },
    "papermill": {
     "duration": 0.0571,
     "end_time": "2021-08-13T15:11:42.791805",
     "exception": false,
     "start_time": "2021-08-13T15:11:42.734705",
     "status": "completed"
    },
    "tags": []
   },
   "outputs": [],
   "source": [
    "def jaccard(row): \n",
    "    str1 = row[0]\n",
    "    str2 = row[1]\n",
    "    a = set(str1.lower().split()) \n",
    "    b = set(str2.lower().split())\n",
    "    c = a.intersection(b)\n",
    "    return float(len(c)) / (len(a) + len(b) - len(c))"
   ]
  },
  {
   "cell_type": "code",
   "execution_count": 43,
   "id": "a5efc475",
   "metadata": {
    "execution": {
     "iopub.execute_input": "2021-08-13T15:11:42.927940Z",
     "iopub.status.busy": "2021-08-13T15:11:42.926851Z",
     "iopub.status.idle": "2021-08-13T15:11:42.932456Z",
     "shell.execute_reply": "2021-08-13T15:11:42.932934Z",
     "shell.execute_reply.started": "2021-08-13T09:16:31.941484Z"
    },
    "papermill": {
     "duration": 0.08738,
     "end_time": "2021-08-13T15:11:42.933137",
     "exception": false,
     "start_time": "2021-08-13T15:11:42.845757",
     "status": "completed"
    },
    "tags": []
   },
   "outputs": [
    {
     "data": {
      "text/html": [
       "<div>\n",
       "<style scoped>\n",
       "    .dataframe tbody tr th:only-of-type {\n",
       "        vertical-align: middle;\n",
       "    }\n",
       "\n",
       "    .dataframe tbody tr th {\n",
       "        vertical-align: top;\n",
       "    }\n",
       "\n",
       "    .dataframe thead th {\n",
       "        text-align: right;\n",
       "    }\n",
       "</style>\n",
       "<table border=\"1\" class=\"dataframe\">\n",
       "  <thead>\n",
       "    <tr style=\"text-align: right;\">\n",
       "      <th></th>\n",
       "      <th>id</th>\n",
       "      <th>answer</th>\n",
       "      <th>prediction</th>\n",
       "      <th>jaccard</th>\n",
       "    </tr>\n",
       "  </thead>\n",
       "  <tbody>\n",
       "    <tr>\n",
       "      <th>0</th>\n",
       "      <td>dc64d02cf</td>\n",
       "      <td>प्रतिभा पाटील</td>\n",
       "      <td>प्रतिभा पाटील</td>\n",
       "      <td>1.000000</td>\n",
       "    </tr>\n",
       "    <tr>\n",
       "      <th>1</th>\n",
       "      <td>98d8542f6</td>\n",
       "      <td>பிங்க்</td>\n",
       "      <td>பிங்க்</td>\n",
       "      <td>1.000000</td>\n",
       "    </tr>\n",
       "    <tr>\n",
       "      <th>2</th>\n",
       "      <td>3ce81e663</td>\n",
       "      <td>मिर्ज़ा असद-उल्लाह बेग ख़ां</td>\n",
       "      <td>मिर्ज़ा असद-उल्लाह बेग ख़ां</td>\n",
       "      <td>1.000000</td>\n",
       "    </tr>\n",
       "    <tr>\n",
       "      <th>3</th>\n",
       "      <td>40f4e32da</td>\n",
       "      <td>मीटर प्रति सेकेण्ड2</td>\n",
       "      <td>मीटर प्रति सेकेण्ड2</td>\n",
       "      <td>1.000000</td>\n",
       "    </tr>\n",
       "    <tr>\n",
       "      <th>4</th>\n",
       "      <td>bfa4380bd</td>\n",
       "      <td>अगरतला</td>\n",
       "      <td>अगरतला</td>\n",
       "      <td>1.000000</td>\n",
       "    </tr>\n",
       "    <tr>\n",
       "      <th>...</th>\n",
       "      <td>...</td>\n",
       "      <td>...</td>\n",
       "      <td>...</td>\n",
       "      <td>...</td>\n",
       "    </tr>\n",
       "    <tr>\n",
       "      <th>59</th>\n",
       "      <td>3acaa3b86</td>\n",
       "      <td>स्टेगेरिया</td>\n",
       "      <td>स्टेगेरिया</td>\n",
       "      <td>1.000000</td>\n",
       "    </tr>\n",
       "    <tr>\n",
       "      <th>60</th>\n",
       "      <td>7a3e4bf22</td>\n",
       "      <td>கி.மு 3000</td>\n",
       "      <td>கி.மு 6000</td>\n",
       "      <td>0.333333</td>\n",
       "    </tr>\n",
       "    <tr>\n",
       "      <th>61</th>\n",
       "      <td>de34ee0a0</td>\n",
       "      <td>माइकोलैव ब्लैक ‍सी शिपयार्ड</td>\n",
       "      <td>रूस</td>\n",
       "      <td>0.000000</td>\n",
       "    </tr>\n",
       "    <tr>\n",
       "      <th>62</th>\n",
       "      <td>518fc3aaf</td>\n",
       "      <td>तेरह</td>\n",
       "      <td>तेरह</td>\n",
       "      <td>1.000000</td>\n",
       "    </tr>\n",
       "    <tr>\n",
       "      <th>63</th>\n",
       "      <td>632812604</td>\n",
       "      <td>न्युयॉर्क</td>\n",
       "      <td>न्युयॉर्क</td>\n",
       "      <td>1.000000</td>\n",
       "    </tr>\n",
       "  </tbody>\n",
       "</table>\n",
       "<p>64 rows × 4 columns</p>\n",
       "</div>"
      ],
      "text/plain": [
       "           id                       answer                   prediction  \\\n",
       "0   dc64d02cf                प्रतिभा पाटील                प्रतिभा पाटील   \n",
       "1   98d8542f6                       பிங்க்                       பிங்க்   \n",
       "2   3ce81e663  मिर्ज़ा असद-उल्लाह बेग ख़ां  मिर्ज़ा असद-उल्लाह बेग ख़ां   \n",
       "3   40f4e32da          मीटर प्रति सेकेण्ड2          मीटर प्रति सेकेण्ड2   \n",
       "4   bfa4380bd                       अगरतला                       अगरतला   \n",
       "..        ...                          ...                          ...   \n",
       "59  3acaa3b86                   स्टेगेरिया                   स्टेगेरिया   \n",
       "60  7a3e4bf22                   கி.மு 3000                   கி.மு 6000   \n",
       "61  de34ee0a0  माइकोलैव ब्लैक ‍सी शिपयार्ड                          रूस   \n",
       "62  518fc3aaf                         तेरह                         तेरह   \n",
       "63  632812604                    न्युयॉर्क                    न्युयॉर्क   \n",
       "\n",
       "     jaccard  \n",
       "0   1.000000  \n",
       "1   1.000000  \n",
       "2   1.000000  \n",
       "3   1.000000  \n",
       "4   1.000000  \n",
       "..       ...  \n",
       "59  1.000000  \n",
       "60  0.333333  \n",
       "61  0.000000  \n",
       "62  1.000000  \n",
       "63  1.000000  \n",
       "\n",
       "[64 rows x 4 columns]"
      ]
     },
     "execution_count": 43,
     "metadata": {},
     "output_type": "execute_result"
    }
   ],
   "source": [
    "res = pd.DataFrame(references)\n",
    "res['prediction'] = res['id'].apply(lambda r: final_predictions[r])\n",
    "res['jaccard'] = res[['answer', 'prediction']].apply(jaccard, axis=1)\n",
    "res"
   ]
  },
  {
   "cell_type": "code",
   "execution_count": 44,
   "id": "d7e69d44",
   "metadata": {
    "execution": {
     "iopub.execute_input": "2021-08-13T15:11:43.045500Z",
     "iopub.status.busy": "2021-08-13T15:11:43.044404Z",
     "iopub.status.idle": "2021-08-13T15:11:43.049460Z",
     "shell.execute_reply": "2021-08-13T15:11:43.048930Z",
     "shell.execute_reply.started": "2021-08-13T09:16:31.967052Z"
    },
    "papermill": {
     "duration": 0.062973,
     "end_time": "2021-08-13T15:11:43.049595",
     "exception": false,
     "start_time": "2021-08-13T15:11:42.986622",
     "status": "completed"
    },
    "tags": []
   },
   "outputs": [
    {
     "data": {
      "text/plain": [
       "0.6541666666666668"
      ]
     },
     "execution_count": 44,
     "metadata": {},
     "output_type": "execute_result"
    }
   ],
   "source": [
    "res.jaccard.mean()"
   ]
  },
  {
   "cell_type": "markdown",
   "id": "994ff8cc",
   "metadata": {
    "papermill": {
     "duration": 0.054748,
     "end_time": "2021-08-13T15:11:43.159381",
     "exception": false,
     "start_time": "2021-08-13T15:11:43.104633",
     "status": "completed"
    },
    "tags": []
   },
   "source": [
    "## Test predict and submit\n",
    "\n",
    "Ok, so we got 0.47 average jaccard score on our validation set (the score can differ when I re-run the notebook). Next step is to run it on test and submit :) "
   ]
  },
  {
   "cell_type": "code",
   "execution_count": 45,
   "id": "5b625e32",
   "metadata": {
    "execution": {
     "iopub.execute_input": "2021-08-13T15:11:43.269236Z",
     "iopub.status.busy": "2021-08-13T15:11:43.268260Z",
     "iopub.status.idle": "2021-08-13T15:11:43.274804Z",
     "shell.execute_reply": "2021-08-13T15:11:43.274307Z",
     "shell.execute_reply.started": "2021-08-13T09:16:31.977422Z"
    },
    "papermill": {
     "duration": 0.063575,
     "end_time": "2021-08-13T15:11:43.274929",
     "exception": false,
     "start_time": "2021-08-13T15:11:43.211354",
     "status": "completed"
    },
    "tags": []
   },
   "outputs": [],
   "source": [
    "test_dataset = Dataset.from_pandas(test)"
   ]
  },
  {
   "cell_type": "code",
   "execution_count": 46,
   "id": "78118660",
   "metadata": {
    "execution": {
     "iopub.execute_input": "2021-08-13T15:11:43.417649Z",
     "iopub.status.busy": "2021-08-13T15:11:43.416815Z",
     "iopub.status.idle": "2021-08-13T15:11:43.843825Z",
     "shell.execute_reply": "2021-08-13T15:11:43.843295Z",
     "shell.execute_reply.started": "2021-08-13T09:16:31.989676Z"
    },
    "papermill": {
     "duration": 0.517443,
     "end_time": "2021-08-13T15:11:43.843982",
     "exception": false,
     "start_time": "2021-08-13T15:11:43.326539",
     "status": "completed"
    },
    "tags": []
   },
   "outputs": [
    {
     "data": {
      "application/vnd.jupyter.widget-view+json": {
       "model_id": "2c692379da92467f8817f466800ccc73",
       "version_major": 2,
       "version_minor": 0
      },
      "text/plain": [
       "  0%|          | 0/1 [00:00<?, ?ba/s]"
      ]
     },
     "metadata": {},
     "output_type": "display_data"
    }
   ],
   "source": [
    "test_features = test_dataset.map(\n",
    "    prepare_validation_features,\n",
    "    batched=True,\n",
    "    remove_columns=test_dataset.column_names\n",
    ")"
   ]
  },
  {
   "cell_type": "code",
   "execution_count": 47,
   "id": "dff713c9",
   "metadata": {
    "execution": {
     "iopub.execute_input": "2021-08-13T15:11:43.981065Z",
     "iopub.status.busy": "2021-08-13T15:11:43.980070Z",
     "iopub.status.idle": "2021-08-13T15:11:44.122745Z",
     "shell.execute_reply": "2021-08-13T15:11:44.121391Z",
     "shell.execute_reply.started": "2021-08-13T09:16:32.552351Z"
    },
    "papermill": {
     "duration": 0.227485,
     "end_time": "2021-08-13T15:11:44.122866",
     "exception": false,
     "start_time": "2021-08-13T15:11:43.895381",
     "status": "completed"
    },
    "tags": []
   },
   "outputs": [
    {
     "data": {
      "application/vnd.jupyter.widget-view+json": {
       "model_id": "11bbbdf228314dda88c73f40c648c8de",
       "version_major": 2,
       "version_minor": 0
      },
      "text/plain": [
       "  0%|          | 0/67 [00:00<?, ?ex/s]"
      ]
     },
     "metadata": {},
     "output_type": "display_data"
    },
    {
     "data": {
      "text/plain": [
       "Dataset({\n",
       "    features: ['attention_mask', 'input_ids'],\n",
       "    num_rows: 67\n",
       "})"
      ]
     },
     "execution_count": 47,
     "metadata": {},
     "output_type": "execute_result"
    }
   ],
   "source": [
    "test_feats_small = test_features.map(lambda example: example, remove_columns=['example_id', 'offset_mapping'])\n",
    "test_feats_small"
   ]
  },
  {
   "cell_type": "code",
   "execution_count": 48,
   "id": "d9613007",
   "metadata": {
    "execution": {
     "iopub.execute_input": "2021-08-13T15:11:44.424236Z",
     "iopub.status.busy": "2021-08-13T15:11:44.423378Z",
     "iopub.status.idle": "2021-08-13T15:11:47.820880Z",
     "shell.execute_reply": "2021-08-13T15:11:47.822115Z",
     "shell.execute_reply.started": "2021-08-13T09:16:32.811879Z"
    },
    "papermill": {
     "duration": 3.642822,
     "end_time": "2021-08-13T15:11:47.822373",
     "exception": false,
     "start_time": "2021-08-13T15:11:44.179551",
     "status": "completed"
    },
    "tags": []
   },
   "outputs": [],
   "source": [
    "test_predictions = trainer.predict(test_feats_small)"
   ]
  },
  {
   "cell_type": "code",
   "execution_count": 49,
   "id": "2463c6dd",
   "metadata": {
    "execution": {
     "iopub.execute_input": "2021-08-13T15:11:48.029510Z",
     "iopub.status.busy": "2021-08-13T15:11:48.028628Z",
     "iopub.status.idle": "2021-08-13T15:11:48.031005Z",
     "shell.execute_reply": "2021-08-13T15:11:48.030333Z",
     "shell.execute_reply.started": "2021-08-13T09:16:36.25799Z"
    },
    "papermill": {
     "duration": 0.109452,
     "end_time": "2021-08-13T15:11:48.031171",
     "exception": false,
     "start_time": "2021-08-13T15:11:47.921719",
     "status": "completed"
    },
    "tags": []
   },
   "outputs": [],
   "source": [
    "test_features.set_format(type=test_features.format[\"type\"], columns=list(test_features.features.keys()))"
   ]
  },
  {
   "cell_type": "code",
   "execution_count": 50,
   "id": "ea9db83c",
   "metadata": {
    "execution": {
     "iopub.execute_input": "2021-08-13T15:11:48.284405Z",
     "iopub.status.busy": "2021-08-13T15:11:48.278302Z",
     "iopub.status.idle": "2021-08-13T15:11:48.785054Z",
     "shell.execute_reply": "2021-08-13T15:11:48.784303Z",
     "shell.execute_reply.started": "2021-08-13T09:16:36.265605Z"
    },
    "papermill": {
     "duration": 0.681331,
     "end_time": "2021-08-13T15:11:48.785247",
     "exception": false,
     "start_time": "2021-08-13T15:11:48.103916",
     "status": "completed"
    },
    "tags": []
   },
   "outputs": [
    {
     "name": "stdout",
     "output_type": "stream",
     "text": [
      "Post-processing 5 example predictions split into 67 features.\n"
     ]
    },
    {
     "data": {
      "application/vnd.jupyter.widget-view+json": {
       "model_id": "ee99d02bc04042dc91bf28c5f83a8907",
       "version_major": 2,
       "version_minor": 0
      },
      "text/plain": [
       "  0%|          | 0/5 [00:00<?, ?it/s]"
      ]
     },
     "metadata": {},
     "output_type": "display_data"
    }
   ],
   "source": [
    "final_test_predictions = postprocess_qa_predictions(test_dataset, test_features, test_predictions.predictions)"
   ]
  },
  {
   "cell_type": "code",
   "execution_count": 51,
   "id": "73fab319",
   "metadata": {
    "execution": {
     "iopub.execute_input": "2021-08-13T15:11:48.973951Z",
     "iopub.status.busy": "2021-08-13T15:11:48.972945Z",
     "iopub.status.idle": "2021-08-13T15:11:48.980560Z",
     "shell.execute_reply": "2021-08-13T15:11:48.981547Z",
     "shell.execute_reply.started": "2021-08-13T09:16:36.6574Z"
    },
    "papermill": {
     "duration": 0.111827,
     "end_time": "2021-08-13T15:11:48.981747",
     "exception": false,
     "start_time": "2021-08-13T15:11:48.869920",
     "status": "completed"
    },
    "tags": []
   },
   "outputs": [
    {
     "data": {
      "text/html": [
       "<div>\n",
       "<style scoped>\n",
       "    .dataframe tbody tr th:only-of-type {\n",
       "        vertical-align: middle;\n",
       "    }\n",
       "\n",
       "    .dataframe tbody tr th {\n",
       "        vertical-align: top;\n",
       "    }\n",
       "\n",
       "    .dataframe thead th {\n",
       "        text-align: right;\n",
       "    }\n",
       "</style>\n",
       "<table border=\"1\" class=\"dataframe\">\n",
       "  <thead>\n",
       "    <tr style=\"text-align: right;\">\n",
       "      <th></th>\n",
       "      <th>id</th>\n",
       "      <th>PredictionString</th>\n",
       "    </tr>\n",
       "  </thead>\n",
       "  <tbody>\n",
       "    <tr>\n",
       "      <th>0</th>\n",
       "      <td>22bff3dec</td>\n",
       "      <td>येलन चीन</td>\n",
       "    </tr>\n",
       "    <tr>\n",
       "      <th>1</th>\n",
       "      <td>282758170</td>\n",
       "      <td>14 जून 2006</td>\n",
       "    </tr>\n",
       "    <tr>\n",
       "      <th>2</th>\n",
       "      <td>d60987e0e</td>\n",
       "      <td>१२ मार्च १८२४</td>\n",
       "    </tr>\n",
       "    <tr>\n",
       "      <th>3</th>\n",
       "      <td>f99c770dc</td>\n",
       "      <td>13</td>\n",
       "    </tr>\n",
       "    <tr>\n",
       "      <th>4</th>\n",
       "      <td>40dec1964</td>\n",
       "      <td>சுவாமிநாதன் மற்றும் வர்கீஸ் குரியன்</td>\n",
       "    </tr>\n",
       "  </tbody>\n",
       "</table>\n",
       "</div>"
      ],
      "text/plain": [
       "          id                     PredictionString\n",
       "0  22bff3dec                             येलन चीन\n",
       "1  282758170                          14 जून 2006\n",
       "2  d60987e0e                        १२ मार्च १८२४\n",
       "3  f99c770dc                                   13\n",
       "4  40dec1964  சுவாமிநாதன் மற்றும் வர்கீஸ் குரியன்"
      ]
     },
     "execution_count": 51,
     "metadata": {},
     "output_type": "execute_result"
    }
   ],
   "source": [
    "sub['PredictionString'] = sub['id'].apply(lambda r: final_test_predictions[r])\n",
    "sub.head()"
   ]
  },
  {
   "cell_type": "code",
   "execution_count": 52,
   "id": "7c8a5271",
   "metadata": {
    "execution": {
     "iopub.execute_input": "2021-08-13T15:11:49.166715Z",
     "iopub.status.busy": "2021-08-13T15:11:49.165751Z",
     "iopub.status.idle": "2021-08-13T15:11:49.172281Z",
     "shell.execute_reply": "2021-08-13T15:11:49.171546Z",
     "shell.execute_reply.started": "2021-08-13T09:16:36.67326Z"
    },
    "papermill": {
     "duration": 0.102285,
     "end_time": "2021-08-13T15:11:49.172464",
     "exception": false,
     "start_time": "2021-08-13T15:11:49.070179",
     "status": "completed"
    },
    "tags": []
   },
   "outputs": [],
   "source": [
    "sub.to_csv('submission.csv', index=False)"
   ]
  },
  {
   "cell_type": "code",
   "execution_count": null,
   "id": "f9d6f00a",
   "metadata": {
    "papermill": {
     "duration": 0.090105,
     "end_time": "2021-08-13T15:11:49.350703",
     "exception": false,
     "start_time": "2021-08-13T15:11:49.260598",
     "status": "completed"
    },
    "tags": []
   },
   "outputs": [],
   "source": []
  },
  {
   "cell_type": "code",
   "execution_count": null,
   "id": "0fd05542",
   "metadata": {
    "papermill": {
     "duration": 0.090409,
     "end_time": "2021-08-13T15:11:49.531932",
     "exception": false,
     "start_time": "2021-08-13T15:11:49.441523",
     "status": "completed"
    },
    "tags": []
   },
   "outputs": [],
   "source": []
  }
 ],
 "metadata": {
  "kernelspec": {
   "display_name": "Python 3",
   "language": "python",
   "name": "python3"
  },
  "language_info": {
   "codemirror_mode": {
    "name": "ipython",
    "version": 3
   },
   "file_extension": ".py",
   "mimetype": "text/x-python",
   "name": "python",
   "nbconvert_exporter": "python",
   "pygments_lexer": "ipython3",
   "version": "3.7.10"
  },
  "papermill": {
   "default_parameters": {},
   "duration": 2302.453864,
   "end_time": "2021-08-13T15:11:52.418785",
   "environment_variables": {},
   "exception": null,
   "input_path": "__notebook__.ipynb",
   "output_path": "__notebook__.ipynb",
   "parameters": {},
   "start_time": "2021-08-13T14:33:29.964921",
   "version": "2.3.3"
  },
  "widgets": {
   "application/vnd.jupyter.widget-state+json": {
    "state": {
     "05d5269acbdb42e8ade285012802d24a": {
      "model_module": "@jupyter-widgets/controls",
      "model_module_version": "1.5.0",
      "model_name": "HTMLModel",
      "state": {
       "_dom_classes": [],
       "_model_module": "@jupyter-widgets/controls",
       "_model_module_version": "1.5.0",
       "_model_name": "HTMLModel",
       "_view_count": null,
       "_view_module": "@jupyter-widgets/controls",
       "_view_module_version": "1.5.0",
       "_view_name": "HTMLView",
       "description": "",
       "description_tooltip": null,
       "layout": "IPY_MODEL_d9e5268f62fb4d519d6a0f9876891946",
       "placeholder": "​",
       "style": "IPY_MODEL_1d9720c3f592449cb31d17fd21dc2ec2",
       "value": " 816/816 [00:01&lt;00:00, 607.10ex/s]"
      }
     },
     "07dafb0d7052439bbbb040105e1c9878": {
      "model_module": "@jupyter-widgets/base",
      "model_module_version": "1.2.0",
      "model_name": "LayoutModel",
      "state": {
       "_model_module": "@jupyter-widgets/base",
       "_model_module_version": "1.2.0",
       "_model_name": "LayoutModel",
       "_view_count": null,
       "_view_module": "@jupyter-widgets/base",
       "_view_module_version": "1.2.0",
       "_view_name": "LayoutView",
       "align_content": null,
       "align_items": null,
       "align_self": null,
       "border": null,
       "bottom": null,
       "display": null,
       "flex": null,
       "flex_flow": null,
       "grid_area": null,
       "grid_auto_columns": null,
       "grid_auto_flow": null,
       "grid_auto_rows": null,
       "grid_column": null,
       "grid_gap": null,
       "grid_row": null,
       "grid_template_areas": null,
       "grid_template_columns": null,
       "grid_template_rows": null,
       "height": null,
       "justify_content": null,
       "justify_items": null,
       "left": null,
       "margin": null,
       "max_height": null,
       "max_width": null,
       "min_height": null,
       "min_width": null,
       "object_fit": null,
       "object_position": null,
       "order": null,
       "overflow": null,
       "overflow_x": null,
       "overflow_y": null,
       "padding": null,
       "right": null,
       "top": null,
       "visibility": null,
       "width": null
      }
     },
     "096a913972984ddc99ce7d00af6ba20a": {
      "model_module": "@jupyter-widgets/base",
      "model_module_version": "1.2.0",
      "model_name": "LayoutModel",
      "state": {
       "_model_module": "@jupyter-widgets/base",
       "_model_module_version": "1.2.0",
       "_model_name": "LayoutModel",
       "_view_count": null,
       "_view_module": "@jupyter-widgets/base",
       "_view_module_version": "1.2.0",
       "_view_name": "LayoutView",
       "align_content": null,
       "align_items": null,
       "align_self": null,
       "border": null,
       "bottom": null,
       "display": null,
       "flex": null,
       "flex_flow": null,
       "grid_area": null,
       "grid_auto_columns": null,
       "grid_auto_flow": null,
       "grid_auto_rows": null,
       "grid_column": null,
       "grid_gap": null,
       "grid_row": null,
       "grid_template_areas": null,
       "grid_template_columns": null,
       "grid_template_rows": null,
       "height": null,
       "justify_content": null,
       "justify_items": null,
       "left": null,
       "margin": null,
       "max_height": null,
       "max_width": null,
       "min_height": null,
       "min_width": null,
       "object_fit": null,
       "object_position": null,
       "order": null,
       "overflow": null,
       "overflow_x": null,
       "overflow_y": null,
       "padding": null,
       "right": null,
       "top": null,
       "visibility": null,
       "width": null
      }
     },
     "0ab37cabbba14a24af766a540c373625": {
      "model_module": "@jupyter-widgets/controls",
      "model_module_version": "1.5.0",
      "model_name": "DescriptionStyleModel",
      "state": {
       "_model_module": "@jupyter-widgets/controls",
       "_model_module_version": "1.5.0",
       "_model_name": "DescriptionStyleModel",
       "_view_count": null,
       "_view_module": "@jupyter-widgets/base",
       "_view_module_version": "1.2.0",
       "_view_name": "StyleView",
       "description_width": ""
      }
     },
     "0b06377cbb49457ab1bf3216d7724ae9": {
      "model_module": "@jupyter-widgets/controls",
      "model_module_version": "1.5.0",
      "model_name": "DescriptionStyleModel",
      "state": {
       "_model_module": "@jupyter-widgets/controls",
       "_model_module_version": "1.5.0",
       "_model_name": "DescriptionStyleModel",
       "_view_count": null,
       "_view_module": "@jupyter-widgets/base",
       "_view_module_version": "1.2.0",
       "_view_name": "StyleView",
       "description_width": ""
      }
     },
     "0eaa2669aad64dff8b9876763f7ae8a5": {
      "model_module": "@jupyter-widgets/base",
      "model_module_version": "1.2.0",
      "model_name": "LayoutModel",
      "state": {
       "_model_module": "@jupyter-widgets/base",
       "_model_module_version": "1.2.0",
       "_model_name": "LayoutModel",
       "_view_count": null,
       "_view_module": "@jupyter-widgets/base",
       "_view_module_version": "1.2.0",
       "_view_name": "LayoutView",
       "align_content": null,
       "align_items": null,
       "align_self": null,
       "border": null,
       "bottom": null,
       "display": null,
       "flex": null,
       "flex_flow": null,
       "grid_area": null,
       "grid_auto_columns": null,
       "grid_auto_flow": null,
       "grid_auto_rows": null,
       "grid_column": null,
       "grid_gap": null,
       "grid_row": null,
       "grid_template_areas": null,
       "grid_template_columns": null,
       "grid_template_rows": null,
       "height": null,
       "justify_content": null,
       "justify_items": null,
       "left": null,
       "margin": null,
       "max_height": null,
       "max_width": null,
       "min_height": null,
       "min_width": null,
       "object_fit": null,
       "object_position": null,
       "order": null,
       "overflow": null,
       "overflow_x": null,
       "overflow_y": null,
       "padding": null,
       "right": null,
       "top": null,
       "visibility": null,
       "width": null
      }
     },
     "0f3081bd615b45af8c1c7db96268a37d": {
      "model_module": "@jupyter-widgets/controls",
      "model_module_version": "1.5.0",
      "model_name": "ProgressStyleModel",
      "state": {
       "_model_module": "@jupyter-widgets/controls",
       "_model_module_version": "1.5.0",
       "_model_name": "ProgressStyleModel",
       "_view_count": null,
       "_view_module": "@jupyter-widgets/base",
       "_view_module_version": "1.2.0",
       "_view_name": "StyleView",
       "bar_color": null,
       "description_width": ""
      }
     },
     "11bbbdf228314dda88c73f40c648c8de": {
      "model_module": "@jupyter-widgets/controls",
      "model_module_version": "1.5.0",
      "model_name": "HBoxModel",
      "state": {
       "_dom_classes": [],
       "_model_module": "@jupyter-widgets/controls",
       "_model_module_version": "1.5.0",
       "_model_name": "HBoxModel",
       "_view_count": null,
       "_view_module": "@jupyter-widgets/controls",
       "_view_module_version": "1.5.0",
       "_view_name": "HBoxView",
       "box_style": "",
       "children": [
        "IPY_MODEL_6a57181ee1c1479d9711dd58fee3cc70",
        "IPY_MODEL_f6f570673856448ebe48c2bfadffa4d3",
        "IPY_MODEL_a9d211cdeac0419dba56e44e3827d323"
       ],
       "layout": "IPY_MODEL_b24468f40fb040fa9f61fbce28d7d50e"
      }
     },
     "16558be215d54edc9e4542da54da0c7b": {
      "model_module": "@jupyter-widgets/controls",
      "model_module_version": "1.5.0",
      "model_name": "DescriptionStyleModel",
      "state": {
       "_model_module": "@jupyter-widgets/controls",
       "_model_module_version": "1.5.0",
       "_model_name": "DescriptionStyleModel",
       "_view_count": null,
       "_view_module": "@jupyter-widgets/base",
       "_view_module_version": "1.2.0",
       "_view_name": "StyleView",
       "description_width": ""
      }
     },
     "1b2b2021605843089790aea75e861bda": {
      "model_module": "@jupyter-widgets/base",
      "model_module_version": "1.2.0",
      "model_name": "LayoutModel",
      "state": {
       "_model_module": "@jupyter-widgets/base",
       "_model_module_version": "1.2.0",
       "_model_name": "LayoutModel",
       "_view_count": null,
       "_view_module": "@jupyter-widgets/base",
       "_view_module_version": "1.2.0",
       "_view_name": "LayoutView",
       "align_content": null,
       "align_items": null,
       "align_self": null,
       "border": null,
       "bottom": null,
       "display": null,
       "flex": null,
       "flex_flow": null,
       "grid_area": null,
       "grid_auto_columns": null,
       "grid_auto_flow": null,
       "grid_auto_rows": null,
       "grid_column": null,
       "grid_gap": null,
       "grid_row": null,
       "grid_template_areas": null,
       "grid_template_columns": null,
       "grid_template_rows": null,
       "height": null,
       "justify_content": null,
       "justify_items": null,
       "left": null,
       "margin": null,
       "max_height": null,
       "max_width": null,
       "min_height": null,
       "min_width": null,
       "object_fit": null,
       "object_position": null,
       "order": null,
       "overflow": null,
       "overflow_x": null,
       "overflow_y": null,
       "padding": null,
       "right": null,
       "top": null,
       "visibility": null,
       "width": null
      }
     },
     "1d9720c3f592449cb31d17fd21dc2ec2": {
      "model_module": "@jupyter-widgets/controls",
      "model_module_version": "1.5.0",
      "model_name": "DescriptionStyleModel",
      "state": {
       "_model_module": "@jupyter-widgets/controls",
       "_model_module_version": "1.5.0",
       "_model_name": "DescriptionStyleModel",
       "_view_count": null,
       "_view_module": "@jupyter-widgets/base",
       "_view_module_version": "1.2.0",
       "_view_name": "StyleView",
       "description_width": ""
      }
     },
     "20c2827b6cb9403f829672b4ca172b26": {
      "model_module": "@jupyter-widgets/base",
      "model_module_version": "1.2.0",
      "model_name": "LayoutModel",
      "state": {
       "_model_module": "@jupyter-widgets/base",
       "_model_module_version": "1.2.0",
       "_model_name": "LayoutModel",
       "_view_count": null,
       "_view_module": "@jupyter-widgets/base",
       "_view_module_version": "1.2.0",
       "_view_name": "LayoutView",
       "align_content": null,
       "align_items": null,
       "align_self": null,
       "border": null,
       "bottom": null,
       "display": null,
       "flex": null,
       "flex_flow": null,
       "grid_area": null,
       "grid_auto_columns": null,
       "grid_auto_flow": null,
       "grid_auto_rows": null,
       "grid_column": null,
       "grid_gap": null,
       "grid_row": null,
       "grid_template_areas": null,
       "grid_template_columns": null,
       "grid_template_rows": null,
       "height": null,
       "justify_content": null,
       "justify_items": null,
       "left": null,
       "margin": null,
       "max_height": null,
       "max_width": null,
       "min_height": null,
       "min_width": null,
       "object_fit": null,
       "object_position": null,
       "order": null,
       "overflow": null,
       "overflow_x": null,
       "overflow_y": null,
       "padding": null,
       "right": null,
       "top": null,
       "visibility": null,
       "width": null
      }
     },
     "226fe9996beb4f5c9c4c89257262c4da": {
      "model_module": "@jupyter-widgets/controls",
      "model_module_version": "1.5.0",
      "model_name": "HBoxModel",
      "state": {
       "_dom_classes": [],
       "_model_module": "@jupyter-widgets/controls",
       "_model_module_version": "1.5.0",
       "_model_name": "HBoxModel",
       "_view_count": null,
       "_view_module": "@jupyter-widgets/controls",
       "_view_module_version": "1.5.0",
       "_view_name": "HBoxView",
       "box_style": "",
       "children": [
        "IPY_MODEL_9db89bc9821d4f898ae45986454b2969",
        "IPY_MODEL_e57d6d3c0306473bbac7d725555c5e7e",
        "IPY_MODEL_283904b37b3e424f8935561ae9b9d566"
       ],
       "layout": "IPY_MODEL_6ffb382c00954bb496b1b6806017a231"
      }
     },
     "24f672a7de9c4ad38d912b76982a4ada": {
      "model_module": "@jupyter-widgets/controls",
      "model_module_version": "1.5.0",
      "model_name": "HTMLModel",
      "state": {
       "_dom_classes": [],
       "_model_module": "@jupyter-widgets/controls",
       "_model_module_version": "1.5.0",
       "_model_name": "HTMLModel",
       "_view_count": null,
       "_view_module": "@jupyter-widgets/controls",
       "_view_module_version": "1.5.0",
       "_view_name": "HTMLView",
       "description": "",
       "description_tooltip": null,
       "layout": "IPY_MODEL_aa9c45069de44a4ba0ccf3fe4a0529cf",
       "placeholder": "​",
       "style": "IPY_MODEL_0b06377cbb49457ab1bf3216d7724ae9",
       "value": " 1/1 [00:00&lt;00:00,  2.42ba/s]"
      }
     },
     "260d84ab96e3450a9589764f6271320e": {
      "model_module": "@jupyter-widgets/base",
      "model_module_version": "1.2.0",
      "model_name": "LayoutModel",
      "state": {
       "_model_module": "@jupyter-widgets/base",
       "_model_module_version": "1.2.0",
       "_model_name": "LayoutModel",
       "_view_count": null,
       "_view_module": "@jupyter-widgets/base",
       "_view_module_version": "1.2.0",
       "_view_name": "LayoutView",
       "align_content": null,
       "align_items": null,
       "align_self": null,
       "border": null,
       "bottom": null,
       "display": null,
       "flex": null,
       "flex_flow": null,
       "grid_area": null,
       "grid_auto_columns": null,
       "grid_auto_flow": null,
       "grid_auto_rows": null,
       "grid_column": null,
       "grid_gap": null,
       "grid_row": null,
       "grid_template_areas": null,
       "grid_template_columns": null,
       "grid_template_rows": null,
       "height": null,
       "justify_content": null,
       "justify_items": null,
       "left": null,
       "margin": null,
       "max_height": null,
       "max_width": null,
       "min_height": null,
       "min_width": null,
       "object_fit": null,
       "object_position": null,
       "order": null,
       "overflow": null,
       "overflow_x": null,
       "overflow_y": null,
       "padding": null,
       "right": null,
       "top": null,
       "visibility": null,
       "width": null
      }
     },
     "283904b37b3e424f8935561ae9b9d566": {
      "model_module": "@jupyter-widgets/controls",
      "model_module_version": "1.5.0",
      "model_name": "HTMLModel",
      "state": {
       "_dom_classes": [],
       "_model_module": "@jupyter-widgets/controls",
       "_model_module_version": "1.5.0",
       "_model_name": "HTMLModel",
       "_view_count": null,
       "_view_module": "@jupyter-widgets/controls",
       "_view_module_version": "1.5.0",
       "_view_name": "HTMLView",
       "description": "",
       "description_tooltip": null,
       "layout": "IPY_MODEL_4100a9f54b3a4f93b7fa0f94cecf0dc9",
       "placeholder": "​",
       "style": "IPY_MODEL_5fc6a3200a3d410b9585bb6d1a207458",
       "value": " 64/64 [00:03&lt;00:00, 26.61it/s]"
      }
     },
     "2a1e300169a049e98b1e93a8c9379302": {
      "model_module": "@jupyter-widgets/controls",
      "model_module_version": "1.5.0",
      "model_name": "FloatProgressModel",
      "state": {
       "_dom_classes": [],
       "_model_module": "@jupyter-widgets/controls",
       "_model_module_version": "1.5.0",
       "_model_name": "FloatProgressModel",
       "_view_count": null,
       "_view_module": "@jupyter-widgets/controls",
       "_view_module_version": "1.5.0",
       "_view_name": "ProgressView",
       "bar_style": "success",
       "description": "",
       "description_tooltip": null,
       "layout": "IPY_MODEL_5e3a1957fb3c47b890424f318640b1d4",
       "max": 1.0,
       "min": 0.0,
       "orientation": "horizontal",
       "style": "IPY_MODEL_2f3332ef269a420d8d3376fe24c40316",
       "value": 1.0
      }
     },
     "2c37e6a6f9eb430a9b8e20474386b8f6": {
      "model_module": "@jupyter-widgets/base",
      "model_module_version": "1.2.0",
      "model_name": "LayoutModel",
      "state": {
       "_model_module": "@jupyter-widgets/base",
       "_model_module_version": "1.2.0",
       "_model_name": "LayoutModel",
       "_view_count": null,
       "_view_module": "@jupyter-widgets/base",
       "_view_module_version": "1.2.0",
       "_view_name": "LayoutView",
       "align_content": null,
       "align_items": null,
       "align_self": null,
       "border": null,
       "bottom": null,
       "display": null,
       "flex": null,
       "flex_flow": null,
       "grid_area": null,
       "grid_auto_columns": null,
       "grid_auto_flow": null,
       "grid_auto_rows": null,
       "grid_column": null,
       "grid_gap": null,
       "grid_row": null,
       "grid_template_areas": null,
       "grid_template_columns": null,
       "grid_template_rows": null,
       "height": null,
       "justify_content": null,
       "justify_items": null,
       "left": null,
       "margin": null,
       "max_height": null,
       "max_width": null,
       "min_height": null,
       "min_width": null,
       "object_fit": null,
       "object_position": null,
       "order": null,
       "overflow": null,
       "overflow_x": null,
       "overflow_y": null,
       "padding": null,
       "right": null,
       "top": null,
       "visibility": null,
       "width": null
      }
     },
     "2c692379da92467f8817f466800ccc73": {
      "model_module": "@jupyter-widgets/controls",
      "model_module_version": "1.5.0",
      "model_name": "HBoxModel",
      "state": {
       "_dom_classes": [],
       "_model_module": "@jupyter-widgets/controls",
       "_model_module_version": "1.5.0",
       "_model_name": "HBoxModel",
       "_view_count": null,
       "_view_module": "@jupyter-widgets/controls",
       "_view_module_version": "1.5.0",
       "_view_name": "HBoxView",
       "box_style": "",
       "children": [
        "IPY_MODEL_50e4acc0bcd248b7b66d6e9b54b4d606",
        "IPY_MODEL_affb343007f54615b47823f14fbc6568",
        "IPY_MODEL_24f672a7de9c4ad38d912b76982a4ada"
       ],
       "layout": "IPY_MODEL_ce6eaeaabce54d6dbed514842f84ffd1"
      }
     },
     "2f3332ef269a420d8d3376fe24c40316": {
      "model_module": "@jupyter-widgets/controls",
      "model_module_version": "1.5.0",
      "model_name": "ProgressStyleModel",
      "state": {
       "_model_module": "@jupyter-widgets/controls",
       "_model_module_version": "1.5.0",
       "_model_name": "ProgressStyleModel",
       "_view_count": null,
       "_view_module": "@jupyter-widgets/base",
       "_view_module_version": "1.2.0",
       "_view_name": "StyleView",
       "bar_color": null,
       "description_width": ""
      }
     },
     "30025ddff69f4a9b9ef6b68062026f48": {
      "model_module": "@jupyter-widgets/controls",
      "model_module_version": "1.5.0",
      "model_name": "DescriptionStyleModel",
      "state": {
       "_model_module": "@jupyter-widgets/controls",
       "_model_module_version": "1.5.0",
       "_model_name": "DescriptionStyleModel",
       "_view_count": null,
       "_view_module": "@jupyter-widgets/base",
       "_view_module_version": "1.2.0",
       "_view_name": "StyleView",
       "description_width": ""
      }
     },
     "30096dab48ef4912890ff8c17d304307": {
      "model_module": "@jupyter-widgets/controls",
      "model_module_version": "1.5.0",
      "model_name": "DescriptionStyleModel",
      "state": {
       "_model_module": "@jupyter-widgets/controls",
       "_model_module_version": "1.5.0",
       "_model_name": "DescriptionStyleModel",
       "_view_count": null,
       "_view_module": "@jupyter-widgets/base",
       "_view_module_version": "1.2.0",
       "_view_name": "StyleView",
       "description_width": ""
      }
     },
     "305a7c3761df4e85a1e76d3459ba6f95": {
      "model_module": "@jupyter-widgets/controls",
      "model_module_version": "1.5.0",
      "model_name": "HBoxModel",
      "state": {
       "_dom_classes": [],
       "_model_module": "@jupyter-widgets/controls",
       "_model_module_version": "1.5.0",
       "_model_name": "HBoxModel",
       "_view_count": null,
       "_view_module": "@jupyter-widgets/controls",
       "_view_module_version": "1.5.0",
       "_view_name": "HBoxView",
       "box_style": "",
       "children": [
        "IPY_MODEL_c7ecc52bd6b249ea98077699e9f71851",
        "IPY_MODEL_2a1e300169a049e98b1e93a8c9379302",
        "IPY_MODEL_65d4238f0d974ae9889af694e0aa2996"
       ],
       "layout": "IPY_MODEL_260d84ab96e3450a9589764f6271320e"
      }
     },
     "3de16484e80c4b2d9a9f1cae4e5c9d41": {
      "model_module": "@jupyter-widgets/base",
      "model_module_version": "1.2.0",
      "model_name": "LayoutModel",
      "state": {
       "_model_module": "@jupyter-widgets/base",
       "_model_module_version": "1.2.0",
       "_model_name": "LayoutModel",
       "_view_count": null,
       "_view_module": "@jupyter-widgets/base",
       "_view_module_version": "1.2.0",
       "_view_name": "LayoutView",
       "align_content": null,
       "align_items": null,
       "align_self": null,
       "border": null,
       "bottom": null,
       "display": null,
       "flex": null,
       "flex_flow": null,
       "grid_area": null,
       "grid_auto_columns": null,
       "grid_auto_flow": null,
       "grid_auto_rows": null,
       "grid_column": null,
       "grid_gap": null,
       "grid_row": null,
       "grid_template_areas": null,
       "grid_template_columns": null,
       "grid_template_rows": null,
       "height": null,
       "justify_content": null,
       "justify_items": null,
       "left": null,
       "margin": null,
       "max_height": null,
       "max_width": null,
       "min_height": null,
       "min_width": null,
       "object_fit": null,
       "object_position": null,
       "order": null,
       "overflow": null,
       "overflow_x": null,
       "overflow_y": null,
       "padding": null,
       "right": null,
       "top": null,
       "visibility": null,
       "width": null
      }
     },
     "4100a9f54b3a4f93b7fa0f94cecf0dc9": {
      "model_module": "@jupyter-widgets/base",
      "model_module_version": "1.2.0",
      "model_name": "LayoutModel",
      "state": {
       "_model_module": "@jupyter-widgets/base",
       "_model_module_version": "1.2.0",
       "_model_name": "LayoutModel",
       "_view_count": null,
       "_view_module": "@jupyter-widgets/base",
       "_view_module_version": "1.2.0",
       "_view_name": "LayoutView",
       "align_content": null,
       "align_items": null,
       "align_self": null,
       "border": null,
       "bottom": null,
       "display": null,
       "flex": null,
       "flex_flow": null,
       "grid_area": null,
       "grid_auto_columns": null,
       "grid_auto_flow": null,
       "grid_auto_rows": null,
       "grid_column": null,
       "grid_gap": null,
       "grid_row": null,
       "grid_template_areas": null,
       "grid_template_columns": null,
       "grid_template_rows": null,
       "height": null,
       "justify_content": null,
       "justify_items": null,
       "left": null,
       "margin": null,
       "max_height": null,
       "max_width": null,
       "min_height": null,
       "min_width": null,
       "object_fit": null,
       "object_position": null,
       "order": null,
       "overflow": null,
       "overflow_x": null,
       "overflow_y": null,
       "padding": null,
       "right": null,
       "top": null,
       "visibility": null,
       "width": null
      }
     },
     "46146a04f66c481dbe844ae3b3029284": {
      "model_module": "@jupyter-widgets/controls",
      "model_module_version": "1.5.0",
      "model_name": "HTMLModel",
      "state": {
       "_dom_classes": [],
       "_model_module": "@jupyter-widgets/controls",
       "_model_module_version": "1.5.0",
       "_model_name": "HTMLModel",
       "_view_count": null,
       "_view_module": "@jupyter-widgets/controls",
       "_view_module_version": "1.5.0",
       "_view_name": "HTMLView",
       "description": "",
       "description_tooltip": null,
       "layout": "IPY_MODEL_54265f57272b4a07b358759bf7ee3673",
       "placeholder": "​",
       "style": "IPY_MODEL_b944015197924c6da6ff1daf2357ce04",
       "value": "100%"
      }
     },
     "48fca2ac87ab4f94981e4c7c276077e9": {
      "model_module": "@jupyter-widgets/controls",
      "model_module_version": "1.5.0",
      "model_name": "HTMLModel",
      "state": {
       "_dom_classes": [],
       "_model_module": "@jupyter-widgets/controls",
       "_model_module_version": "1.5.0",
       "_model_name": "HTMLModel",
       "_view_count": null,
       "_view_module": "@jupyter-widgets/controls",
       "_view_module_version": "1.5.0",
       "_view_name": "HTMLView",
       "description": "",
       "description_tooltip": null,
       "layout": "IPY_MODEL_77bf88157a134084b724420d37bec5f2",
       "placeholder": "​",
       "style": "IPY_MODEL_a4927316e6474d03adbf1ed0af63bdb1",
       "value": "100%"
      }
     },
     "4bbf2ae558d44efb9c5f6aeb31d8c2cf": {
      "model_module": "@jupyter-widgets/base",
      "model_module_version": "1.2.0",
      "model_name": "LayoutModel",
      "state": {
       "_model_module": "@jupyter-widgets/base",
       "_model_module_version": "1.2.0",
       "_model_name": "LayoutModel",
       "_view_count": null,
       "_view_module": "@jupyter-widgets/base",
       "_view_module_version": "1.2.0",
       "_view_name": "LayoutView",
       "align_content": null,
       "align_items": null,
       "align_self": null,
       "border": null,
       "bottom": null,
       "display": null,
       "flex": null,
       "flex_flow": null,
       "grid_area": null,
       "grid_auto_columns": null,
       "grid_auto_flow": null,
       "grid_auto_rows": null,
       "grid_column": null,
       "grid_gap": null,
       "grid_row": null,
       "grid_template_areas": null,
       "grid_template_columns": null,
       "grid_template_rows": null,
       "height": null,
       "justify_content": null,
       "justify_items": null,
       "left": null,
       "margin": null,
       "max_height": null,
       "max_width": null,
       "min_height": null,
       "min_width": null,
       "object_fit": null,
       "object_position": null,
       "order": null,
       "overflow": null,
       "overflow_x": null,
       "overflow_y": null,
       "padding": null,
       "right": null,
       "top": null,
       "visibility": null,
       "width": null
      }
     },
     "50e4acc0bcd248b7b66d6e9b54b4d606": {
      "model_module": "@jupyter-widgets/controls",
      "model_module_version": "1.5.0",
      "model_name": "HTMLModel",
      "state": {
       "_dom_classes": [],
       "_model_module": "@jupyter-widgets/controls",
       "_model_module_version": "1.5.0",
       "_model_name": "HTMLModel",
       "_view_count": null,
       "_view_module": "@jupyter-widgets/controls",
       "_view_module_version": "1.5.0",
       "_view_name": "HTMLView",
       "description": "",
       "description_tooltip": null,
       "layout": "IPY_MODEL_ac47117c654648c48783c062fc733900",
       "placeholder": "​",
       "style": "IPY_MODEL_0ab37cabbba14a24af766a540c373625",
       "value": "100%"
      }
     },
     "51d6e7a61fb74940a8ff4cc4955b9769": {
      "model_module": "@jupyter-widgets/base",
      "model_module_version": "1.2.0",
      "model_name": "LayoutModel",
      "state": {
       "_model_module": "@jupyter-widgets/base",
       "_model_module_version": "1.2.0",
       "_model_name": "LayoutModel",
       "_view_count": null,
       "_view_module": "@jupyter-widgets/base",
       "_view_module_version": "1.2.0",
       "_view_name": "LayoutView",
       "align_content": null,
       "align_items": null,
       "align_self": null,
       "border": null,
       "bottom": null,
       "display": null,
       "flex": null,
       "flex_flow": null,
       "grid_area": null,
       "grid_auto_columns": null,
       "grid_auto_flow": null,
       "grid_auto_rows": null,
       "grid_column": null,
       "grid_gap": null,
       "grid_row": null,
       "grid_template_areas": null,
       "grid_template_columns": null,
       "grid_template_rows": null,
       "height": null,
       "justify_content": null,
       "justify_items": null,
       "left": null,
       "margin": null,
       "max_height": null,
       "max_width": null,
       "min_height": null,
       "min_width": null,
       "object_fit": null,
       "object_position": null,
       "order": null,
       "overflow": null,
       "overflow_x": null,
       "overflow_y": null,
       "padding": null,
       "right": null,
       "top": null,
       "visibility": null,
       "width": null
      }
     },
     "54265f57272b4a07b358759bf7ee3673": {
      "model_module": "@jupyter-widgets/base",
      "model_module_version": "1.2.0",
      "model_name": "LayoutModel",
      "state": {
       "_model_module": "@jupyter-widgets/base",
       "_model_module_version": "1.2.0",
       "_model_name": "LayoutModel",
       "_view_count": null,
       "_view_module": "@jupyter-widgets/base",
       "_view_module_version": "1.2.0",
       "_view_name": "LayoutView",
       "align_content": null,
       "align_items": null,
       "align_self": null,
       "border": null,
       "bottom": null,
       "display": null,
       "flex": null,
       "flex_flow": null,
       "grid_area": null,
       "grid_auto_columns": null,
       "grid_auto_flow": null,
       "grid_auto_rows": null,
       "grid_column": null,
       "grid_gap": null,
       "grid_row": null,
       "grid_template_areas": null,
       "grid_template_columns": null,
       "grid_template_rows": null,
       "height": null,
       "justify_content": null,
       "justify_items": null,
       "left": null,
       "margin": null,
       "max_height": null,
       "max_width": null,
       "min_height": null,
       "min_width": null,
       "object_fit": null,
       "object_position": null,
       "order": null,
       "overflow": null,
       "overflow_x": null,
       "overflow_y": null,
       "padding": null,
       "right": null,
       "top": null,
       "visibility": null,
       "width": null
      }
     },
     "57852cb980f24eb7b03c9dff2d75e51d": {
      "model_module": "@jupyter-widgets/controls",
      "model_module_version": "1.5.0",
      "model_name": "FloatProgressModel",
      "state": {
       "_dom_classes": [],
       "_model_module": "@jupyter-widgets/controls",
       "_model_module_version": "1.5.0",
       "_model_name": "FloatProgressModel",
       "_view_count": null,
       "_view_module": "@jupyter-widgets/controls",
       "_view_module_version": "1.5.0",
       "_view_name": "ProgressView",
       "bar_style": "success",
       "description": "",
       "description_tooltip": null,
       "layout": "IPY_MODEL_0eaa2669aad64dff8b9876763f7ae8a5",
       "max": 2.0,
       "min": 0.0,
       "orientation": "horizontal",
       "style": "IPY_MODEL_f38c15be0a4d4a049d7c501c5a4b0c70",
       "value": 2.0
      }
     },
     "598b93bb34c746f69145d08018bb9ea8": {
      "model_module": "@jupyter-widgets/controls",
      "model_module_version": "1.5.0",
      "model_name": "FloatProgressModel",
      "state": {
       "_dom_classes": [],
       "_model_module": "@jupyter-widgets/controls",
       "_model_module_version": "1.5.0",
       "_model_name": "FloatProgressModel",
       "_view_count": null,
       "_view_module": "@jupyter-widgets/controls",
       "_view_module_version": "1.5.0",
       "_view_name": "ProgressView",
       "bar_style": "success",
       "description": "",
       "description_tooltip": null,
       "layout": "IPY_MODEL_d5d5af6a2beb4cec93e57509edc13b60",
       "max": 816.0,
       "min": 0.0,
       "orientation": "horizontal",
       "style": "IPY_MODEL_afdfe9945caa45bba8a1c5ca59efe7a0",
       "value": 816.0
      }
     },
     "5b2a8b016a0b48fea4ac9742f642f99f": {
      "model_module": "@jupyter-widgets/controls",
      "model_module_version": "1.5.0",
      "model_name": "DescriptionStyleModel",
      "state": {
       "_model_module": "@jupyter-widgets/controls",
       "_model_module_version": "1.5.0",
       "_model_name": "DescriptionStyleModel",
       "_view_count": null,
       "_view_module": "@jupyter-widgets/base",
       "_view_module_version": "1.2.0",
       "_view_name": "StyleView",
       "description_width": ""
      }
     },
     "5ce7fee79a1a49049e9ec91e2bbe4c5d": {
      "model_module": "@jupyter-widgets/controls",
      "model_module_version": "1.5.0",
      "model_name": "DescriptionStyleModel",
      "state": {
       "_model_module": "@jupyter-widgets/controls",
       "_model_module_version": "1.5.0",
       "_model_name": "DescriptionStyleModel",
       "_view_count": null,
       "_view_module": "@jupyter-widgets/base",
       "_view_module_version": "1.2.0",
       "_view_name": "StyleView",
       "description_width": ""
      }
     },
     "5d238bd5c6f143b5a912863b9c0fa093": {
      "model_module": "@jupyter-widgets/base",
      "model_module_version": "1.2.0",
      "model_name": "LayoutModel",
      "state": {
       "_model_module": "@jupyter-widgets/base",
       "_model_module_version": "1.2.0",
       "_model_name": "LayoutModel",
       "_view_count": null,
       "_view_module": "@jupyter-widgets/base",
       "_view_module_version": "1.2.0",
       "_view_name": "LayoutView",
       "align_content": null,
       "align_items": null,
       "align_self": null,
       "border": null,
       "bottom": null,
       "display": null,
       "flex": null,
       "flex_flow": null,
       "grid_area": null,
       "grid_auto_columns": null,
       "grid_auto_flow": null,
       "grid_auto_rows": null,
       "grid_column": null,
       "grid_gap": null,
       "grid_row": null,
       "grid_template_areas": null,
       "grid_template_columns": null,
       "grid_template_rows": null,
       "height": null,
       "justify_content": null,
       "justify_items": null,
       "left": null,
       "margin": null,
       "max_height": null,
       "max_width": null,
       "min_height": null,
       "min_width": null,
       "object_fit": null,
       "object_position": null,
       "order": null,
       "overflow": null,
       "overflow_x": null,
       "overflow_y": null,
       "padding": null,
       "right": null,
       "top": null,
       "visibility": null,
       "width": null
      }
     },
     "5e3a1957fb3c47b890424f318640b1d4": {
      "model_module": "@jupyter-widgets/base",
      "model_module_version": "1.2.0",
      "model_name": "LayoutModel",
      "state": {
       "_model_module": "@jupyter-widgets/base",
       "_model_module_version": "1.2.0",
       "_model_name": "LayoutModel",
       "_view_count": null,
       "_view_module": "@jupyter-widgets/base",
       "_view_module_version": "1.2.0",
       "_view_name": "LayoutView",
       "align_content": null,
       "align_items": null,
       "align_self": null,
       "border": null,
       "bottom": null,
       "display": null,
       "flex": null,
       "flex_flow": null,
       "grid_area": null,
       "grid_auto_columns": null,
       "grid_auto_flow": null,
       "grid_auto_rows": null,
       "grid_column": null,
       "grid_gap": null,
       "grid_row": null,
       "grid_template_areas": null,
       "grid_template_columns": null,
       "grid_template_rows": null,
       "height": null,
       "justify_content": null,
       "justify_items": null,
       "left": null,
       "margin": null,
       "max_height": null,
       "max_width": null,
       "min_height": null,
       "min_width": null,
       "object_fit": null,
       "object_position": null,
       "order": null,
       "overflow": null,
       "overflow_x": null,
       "overflow_y": null,
       "padding": null,
       "right": null,
       "top": null,
       "visibility": null,
       "width": null
      }
     },
     "5fc6a3200a3d410b9585bb6d1a207458": {
      "model_module": "@jupyter-widgets/controls",
      "model_module_version": "1.5.0",
      "model_name": "DescriptionStyleModel",
      "state": {
       "_model_module": "@jupyter-widgets/controls",
       "_model_module_version": "1.5.0",
       "_model_name": "DescriptionStyleModel",
       "_view_count": null,
       "_view_module": "@jupyter-widgets/base",
       "_view_module_version": "1.2.0",
       "_view_name": "StyleView",
       "description_width": ""
      }
     },
     "6294763026cf42a7b408123917f7fe7f": {
      "model_module": "@jupyter-widgets/base",
      "model_module_version": "1.2.0",
      "model_name": "LayoutModel",
      "state": {
       "_model_module": "@jupyter-widgets/base",
       "_model_module_version": "1.2.0",
       "_model_name": "LayoutModel",
       "_view_count": null,
       "_view_module": "@jupyter-widgets/base",
       "_view_module_version": "1.2.0",
       "_view_name": "LayoutView",
       "align_content": null,
       "align_items": null,
       "align_self": null,
       "border": null,
       "bottom": null,
       "display": null,
       "flex": null,
       "flex_flow": null,
       "grid_area": null,
       "grid_auto_columns": null,
       "grid_auto_flow": null,
       "grid_auto_rows": null,
       "grid_column": null,
       "grid_gap": null,
       "grid_row": null,
       "grid_template_areas": null,
       "grid_template_columns": null,
       "grid_template_rows": null,
       "height": null,
       "justify_content": null,
       "justify_items": null,
       "left": null,
       "margin": null,
       "max_height": null,
       "max_width": null,
       "min_height": null,
       "min_width": null,
       "object_fit": null,
       "object_position": null,
       "order": null,
       "overflow": null,
       "overflow_x": null,
       "overflow_y": null,
       "padding": null,
       "right": null,
       "top": null,
       "visibility": null,
       "width": null
      }
     },
     "6372c7eeffa246178688d40ab0d336a9": {
      "model_module": "@jupyter-widgets/base",
      "model_module_version": "1.2.0",
      "model_name": "LayoutModel",
      "state": {
       "_model_module": "@jupyter-widgets/base",
       "_model_module_version": "1.2.0",
       "_model_name": "LayoutModel",
       "_view_count": null,
       "_view_module": "@jupyter-widgets/base",
       "_view_module_version": "1.2.0",
       "_view_name": "LayoutView",
       "align_content": null,
       "align_items": null,
       "align_self": null,
       "border": null,
       "bottom": null,
       "display": null,
       "flex": null,
       "flex_flow": null,
       "grid_area": null,
       "grid_auto_columns": null,
       "grid_auto_flow": null,
       "grid_auto_rows": null,
       "grid_column": null,
       "grid_gap": null,
       "grid_row": null,
       "grid_template_areas": null,
       "grid_template_columns": null,
       "grid_template_rows": null,
       "height": null,
       "justify_content": null,
       "justify_items": null,
       "left": null,
       "margin": null,
       "max_height": null,
       "max_width": null,
       "min_height": null,
       "min_width": null,
       "object_fit": null,
       "object_position": null,
       "order": null,
       "overflow": null,
       "overflow_x": null,
       "overflow_y": null,
       "padding": null,
       "right": null,
       "top": null,
       "visibility": null,
       "width": null
      }
     },
     "65d4238f0d974ae9889af694e0aa2996": {
      "model_module": "@jupyter-widgets/controls",
      "model_module_version": "1.5.0",
      "model_name": "HTMLModel",
      "state": {
       "_dom_classes": [],
       "_model_module": "@jupyter-widgets/controls",
       "_model_module_version": "1.5.0",
       "_model_name": "HTMLModel",
       "_view_count": null,
       "_view_module": "@jupyter-widgets/controls",
       "_view_module_version": "1.5.0",
       "_view_name": "HTMLView",
       "description": "",
       "description_tooltip": null,
       "layout": "IPY_MODEL_8fe8a071f1064b69800fcefad77d1ecd",
       "placeholder": "​",
       "style": "IPY_MODEL_5ce7fee79a1a49049e9ec91e2bbe4c5d",
       "value": " 1/1 [00:04&lt;00:00,  4.51s/ba]"
      }
     },
     "673beee0d7e040bc8b05a37e20a4b8df": {
      "model_module": "@jupyter-widgets/base",
      "model_module_version": "1.2.0",
      "model_name": "LayoutModel",
      "state": {
       "_model_module": "@jupyter-widgets/base",
       "_model_module_version": "1.2.0",
       "_model_name": "LayoutModel",
       "_view_count": null,
       "_view_module": "@jupyter-widgets/base",
       "_view_module_version": "1.2.0",
       "_view_name": "LayoutView",
       "align_content": null,
       "align_items": null,
       "align_self": null,
       "border": null,
       "bottom": null,
       "display": null,
       "flex": null,
       "flex_flow": null,
       "grid_area": null,
       "grid_auto_columns": null,
       "grid_auto_flow": null,
       "grid_auto_rows": null,
       "grid_column": null,
       "grid_gap": null,
       "grid_row": null,
       "grid_template_areas": null,
       "grid_template_columns": null,
       "grid_template_rows": null,
       "height": null,
       "justify_content": null,
       "justify_items": null,
       "left": null,
       "margin": null,
       "max_height": null,
       "max_width": null,
       "min_height": null,
       "min_width": null,
       "object_fit": null,
       "object_position": null,
       "order": null,
       "overflow": null,
       "overflow_x": null,
       "overflow_y": null,
       "padding": null,
       "right": null,
       "top": null,
       "visibility": null,
       "width": null
      }
     },
     "67d12b5d99ba42f3805764d4f3316fbb": {
      "model_module": "@jupyter-widgets/base",
      "model_module_version": "1.2.0",
      "model_name": "LayoutModel",
      "state": {
       "_model_module": "@jupyter-widgets/base",
       "_model_module_version": "1.2.0",
       "_model_name": "LayoutModel",
       "_view_count": null,
       "_view_module": "@jupyter-widgets/base",
       "_view_module_version": "1.2.0",
       "_view_name": "LayoutView",
       "align_content": null,
       "align_items": null,
       "align_self": null,
       "border": null,
       "bottom": null,
       "display": null,
       "flex": null,
       "flex_flow": null,
       "grid_area": null,
       "grid_auto_columns": null,
       "grid_auto_flow": null,
       "grid_auto_rows": null,
       "grid_column": null,
       "grid_gap": null,
       "grid_row": null,
       "grid_template_areas": null,
       "grid_template_columns": null,
       "grid_template_rows": null,
       "height": null,
       "justify_content": null,
       "justify_items": null,
       "left": null,
       "margin": null,
       "max_height": null,
       "max_width": null,
       "min_height": null,
       "min_width": null,
       "object_fit": null,
       "object_position": null,
       "order": null,
       "overflow": null,
       "overflow_x": null,
       "overflow_y": null,
       "padding": null,
       "right": null,
       "top": null,
       "visibility": null,
       "width": null
      }
     },
     "68de09f95d6c4b33af17e3d462946db7": {
      "model_module": "@jupyter-widgets/controls",
      "model_module_version": "1.5.0",
      "model_name": "ProgressStyleModel",
      "state": {
       "_model_module": "@jupyter-widgets/controls",
       "_model_module_version": "1.5.0",
       "_model_name": "ProgressStyleModel",
       "_view_count": null,
       "_view_module": "@jupyter-widgets/base",
       "_view_module_version": "1.2.0",
       "_view_name": "StyleView",
       "bar_color": null,
       "description_width": ""
      }
     },
     "6a57181ee1c1479d9711dd58fee3cc70": {
      "model_module": "@jupyter-widgets/controls",
      "model_module_version": "1.5.0",
      "model_name": "HTMLModel",
      "state": {
       "_dom_classes": [],
       "_model_module": "@jupyter-widgets/controls",
       "_model_module_version": "1.5.0",
       "_model_name": "HTMLModel",
       "_view_count": null,
       "_view_module": "@jupyter-widgets/controls",
       "_view_module_version": "1.5.0",
       "_view_name": "HTMLView",
       "description": "",
       "description_tooltip": null,
       "layout": "IPY_MODEL_1b2b2021605843089790aea75e861bda",
       "placeholder": "​",
       "style": "IPY_MODEL_bb9c0e5ac42e4414889894df9b2fedb2",
       "value": "100%"
      }
     },
     "6ffb382c00954bb496b1b6806017a231": {
      "model_module": "@jupyter-widgets/base",
      "model_module_version": "1.2.0",
      "model_name": "LayoutModel",
      "state": {
       "_model_module": "@jupyter-widgets/base",
       "_model_module_version": "1.2.0",
       "_model_name": "LayoutModel",
       "_view_count": null,
       "_view_module": "@jupyter-widgets/base",
       "_view_module_version": "1.2.0",
       "_view_name": "LayoutView",
       "align_content": null,
       "align_items": null,
       "align_self": null,
       "border": null,
       "bottom": null,
       "display": null,
       "flex": null,
       "flex_flow": null,
       "grid_area": null,
       "grid_auto_columns": null,
       "grid_auto_flow": null,
       "grid_auto_rows": null,
       "grid_column": null,
       "grid_gap": null,
       "grid_row": null,
       "grid_template_areas": null,
       "grid_template_columns": null,
       "grid_template_rows": null,
       "height": null,
       "justify_content": null,
       "justify_items": null,
       "left": null,
       "margin": null,
       "max_height": null,
       "max_width": null,
       "min_height": null,
       "min_width": null,
       "object_fit": null,
       "object_position": null,
       "order": null,
       "overflow": null,
       "overflow_x": null,
       "overflow_y": null,
       "padding": null,
       "right": null,
       "top": null,
       "visibility": null,
       "width": null
      }
     },
     "77bf88157a134084b724420d37bec5f2": {
      "model_module": "@jupyter-widgets/base",
      "model_module_version": "1.2.0",
      "model_name": "LayoutModel",
      "state": {
       "_model_module": "@jupyter-widgets/base",
       "_model_module_version": "1.2.0",
       "_model_name": "LayoutModel",
       "_view_count": null,
       "_view_module": "@jupyter-widgets/base",
       "_view_module_version": "1.2.0",
       "_view_name": "LayoutView",
       "align_content": null,
       "align_items": null,
       "align_self": null,
       "border": null,
       "bottom": null,
       "display": null,
       "flex": null,
       "flex_flow": null,
       "grid_area": null,
       "grid_auto_columns": null,
       "grid_auto_flow": null,
       "grid_auto_rows": null,
       "grid_column": null,
       "grid_gap": null,
       "grid_row": null,
       "grid_template_areas": null,
       "grid_template_columns": null,
       "grid_template_rows": null,
       "height": null,
       "justify_content": null,
       "justify_items": null,
       "left": null,
       "margin": null,
       "max_height": null,
       "max_width": null,
       "min_height": null,
       "min_width": null,
       "object_fit": null,
       "object_position": null,
       "order": null,
       "overflow": null,
       "overflow_x": null,
       "overflow_y": null,
       "padding": null,
       "right": null,
       "top": null,
       "visibility": null,
       "width": null
      }
     },
     "82035574702f440699494eaeba93a7ec": {
      "model_module": "@jupyter-widgets/controls",
      "model_module_version": "1.5.0",
      "model_name": "HBoxModel",
      "state": {
       "_dom_classes": [],
       "_model_module": "@jupyter-widgets/controls",
       "_model_module_version": "1.5.0",
       "_model_name": "HBoxModel",
       "_view_count": null,
       "_view_module": "@jupyter-widgets/controls",
       "_view_module_version": "1.5.0",
       "_view_name": "HBoxView",
       "box_style": "",
       "children": [
        "IPY_MODEL_48fca2ac87ab4f94981e4c7c276077e9",
        "IPY_MODEL_598b93bb34c746f69145d08018bb9ea8",
        "IPY_MODEL_05d5269acbdb42e8ade285012802d24a"
       ],
       "layout": "IPY_MODEL_3de16484e80c4b2d9a9f1cae4e5c9d41"
      }
     },
     "8fe8a071f1064b69800fcefad77d1ecd": {
      "model_module": "@jupyter-widgets/base",
      "model_module_version": "1.2.0",
      "model_name": "LayoutModel",
      "state": {
       "_model_module": "@jupyter-widgets/base",
       "_model_module_version": "1.2.0",
       "_model_name": "LayoutModel",
       "_view_count": null,
       "_view_module": "@jupyter-widgets/base",
       "_view_module_version": "1.2.0",
       "_view_name": "LayoutView",
       "align_content": null,
       "align_items": null,
       "align_self": null,
       "border": null,
       "bottom": null,
       "display": null,
       "flex": null,
       "flex_flow": null,
       "grid_area": null,
       "grid_auto_columns": null,
       "grid_auto_flow": null,
       "grid_auto_rows": null,
       "grid_column": null,
       "grid_gap": null,
       "grid_row": null,
       "grid_template_areas": null,
       "grid_template_columns": null,
       "grid_template_rows": null,
       "height": null,
       "justify_content": null,
       "justify_items": null,
       "left": null,
       "margin": null,
       "max_height": null,
       "max_width": null,
       "min_height": null,
       "min_width": null,
       "object_fit": null,
       "object_position": null,
       "order": null,
       "overflow": null,
       "overflow_x": null,
       "overflow_y": null,
       "padding": null,
       "right": null,
       "top": null,
       "visibility": null,
       "width": null
      }
     },
     "92c925873079483d975946877f4faaa1": {
      "model_module": "@jupyter-widgets/base",
      "model_module_version": "1.2.0",
      "model_name": "LayoutModel",
      "state": {
       "_model_module": "@jupyter-widgets/base",
       "_model_module_version": "1.2.0",
       "_model_name": "LayoutModel",
       "_view_count": null,
       "_view_module": "@jupyter-widgets/base",
       "_view_module_version": "1.2.0",
       "_view_name": "LayoutView",
       "align_content": null,
       "align_items": null,
       "align_self": null,
       "border": null,
       "bottom": null,
       "display": null,
       "flex": null,
       "flex_flow": null,
       "grid_area": null,
       "grid_auto_columns": null,
       "grid_auto_flow": null,
       "grid_auto_rows": null,
       "grid_column": null,
       "grid_gap": null,
       "grid_row": null,
       "grid_template_areas": null,
       "grid_template_columns": null,
       "grid_template_rows": null,
       "height": null,
       "justify_content": null,
       "justify_items": null,
       "left": null,
       "margin": null,
       "max_height": null,
       "max_width": null,
       "min_height": null,
       "min_width": null,
       "object_fit": null,
       "object_position": null,
       "order": null,
       "overflow": null,
       "overflow_x": null,
       "overflow_y": null,
       "padding": null,
       "right": null,
       "top": null,
       "visibility": null,
       "width": null
      }
     },
     "961df39243b8451ea0149d8c4471a189": {
      "model_module": "@jupyter-widgets/controls",
      "model_module_version": "1.5.0",
      "model_name": "HBoxModel",
      "state": {
       "_dom_classes": [],
       "_model_module": "@jupyter-widgets/controls",
       "_model_module_version": "1.5.0",
       "_model_name": "HBoxModel",
       "_view_count": null,
       "_view_module": "@jupyter-widgets/controls",
       "_view_module_version": "1.5.0",
       "_view_name": "HBoxView",
       "box_style": "",
       "children": [
        "IPY_MODEL_fcc493024fd347cb9f7e38dab3d7f7c9",
        "IPY_MODEL_57852cb980f24eb7b03c9dff2d75e51d",
        "IPY_MODEL_fb8f200d8d4d4b11a563a66ded4adc5c"
       ],
       "layout": "IPY_MODEL_c0aa27cd24bf4b54bf47a9350e9688c9"
      }
     },
     "98e5f068caa14373afad85d652304a91": {
      "model_module": "@jupyter-widgets/controls",
      "model_module_version": "1.5.0",
      "model_name": "FloatProgressModel",
      "state": {
       "_dom_classes": [],
       "_model_module": "@jupyter-widgets/controls",
       "_model_module_version": "1.5.0",
       "_model_name": "FloatProgressModel",
       "_view_count": null,
       "_view_module": "@jupyter-widgets/controls",
       "_view_module_version": "1.5.0",
       "_view_name": "ProgressView",
       "bar_style": "success",
       "description": "",
       "description_tooltip": null,
       "layout": "IPY_MODEL_5d238bd5c6f143b5a912863b9c0fa093",
       "max": 1.0,
       "min": 0.0,
       "orientation": "horizontal",
       "style": "IPY_MODEL_0f3081bd615b45af8c1c7db96268a37d",
       "value": 1.0
      }
     },
     "9db89bc9821d4f898ae45986454b2969": {
      "model_module": "@jupyter-widgets/controls",
      "model_module_version": "1.5.0",
      "model_name": "HTMLModel",
      "state": {
       "_dom_classes": [],
       "_model_module": "@jupyter-widgets/controls",
       "_model_module_version": "1.5.0",
       "_model_name": "HTMLModel",
       "_view_count": null,
       "_view_module": "@jupyter-widgets/controls",
       "_view_module_version": "1.5.0",
       "_view_name": "HTMLView",
       "description": "",
       "description_tooltip": null,
       "layout": "IPY_MODEL_de526e508cab498bb0feb896a25fecbd",
       "placeholder": "​",
       "style": "IPY_MODEL_c5a761e2c7ff403c8e43af1f46b6641a",
       "value": "100%"
      }
     },
     "a260a1fcff724615a0cd6cc70dd90bc0": {
      "model_module": "@jupyter-widgets/controls",
      "model_module_version": "1.5.0",
      "model_name": "HTMLModel",
      "state": {
       "_dom_classes": [],
       "_model_module": "@jupyter-widgets/controls",
       "_model_module_version": "1.5.0",
       "_model_name": "HTMLModel",
       "_view_count": null,
       "_view_module": "@jupyter-widgets/controls",
       "_view_module_version": "1.5.0",
       "_view_name": "HTMLView",
       "description": "",
       "description_tooltip": null,
       "layout": "IPY_MODEL_2c37e6a6f9eb430a9b8e20474386b8f6",
       "placeholder": "​",
       "style": "IPY_MODEL_16558be215d54edc9e4542da54da0c7b",
       "value": "100%"
      }
     },
     "a4927316e6474d03adbf1ed0af63bdb1": {
      "model_module": "@jupyter-widgets/controls",
      "model_module_version": "1.5.0",
      "model_name": "DescriptionStyleModel",
      "state": {
       "_model_module": "@jupyter-widgets/controls",
       "_model_module_version": "1.5.0",
       "_model_name": "DescriptionStyleModel",
       "_view_count": null,
       "_view_module": "@jupyter-widgets/base",
       "_view_module_version": "1.2.0",
       "_view_name": "StyleView",
       "description_width": ""
      }
     },
     "a9d211cdeac0419dba56e44e3827d323": {
      "model_module": "@jupyter-widgets/controls",
      "model_module_version": "1.5.0",
      "model_name": "HTMLModel",
      "state": {
       "_dom_classes": [],
       "_model_module": "@jupyter-widgets/controls",
       "_model_module_version": "1.5.0",
       "_model_name": "HTMLModel",
       "_view_count": null,
       "_view_module": "@jupyter-widgets/controls",
       "_view_module_version": "1.5.0",
       "_view_name": "HTMLView",
       "description": "",
       "description_tooltip": null,
       "layout": "IPY_MODEL_6294763026cf42a7b408123917f7fe7f",
       "placeholder": "​",
       "style": "IPY_MODEL_e25cd529b20a42a8bc307d646d37bcd0",
       "value": " 67/67 [00:00&lt;00:00, 387.67ex/s]"
      }
     },
     "aa9c45069de44a4ba0ccf3fe4a0529cf": {
      "model_module": "@jupyter-widgets/base",
      "model_module_version": "1.2.0",
      "model_name": "LayoutModel",
      "state": {
       "_model_module": "@jupyter-widgets/base",
       "_model_module_version": "1.2.0",
       "_model_name": "LayoutModel",
       "_view_count": null,
       "_view_module": "@jupyter-widgets/base",
       "_view_module_version": "1.2.0",
       "_view_name": "LayoutView",
       "align_content": null,
       "align_items": null,
       "align_self": null,
       "border": null,
       "bottom": null,
       "display": null,
       "flex": null,
       "flex_flow": null,
       "grid_area": null,
       "grid_auto_columns": null,
       "grid_auto_flow": null,
       "grid_auto_rows": null,
       "grid_column": null,
       "grid_gap": null,
       "grid_row": null,
       "grid_template_areas": null,
       "grid_template_columns": null,
       "grid_template_rows": null,
       "height": null,
       "justify_content": null,
       "justify_items": null,
       "left": null,
       "margin": null,
       "max_height": null,
       "max_width": null,
       "min_height": null,
       "min_width": null,
       "object_fit": null,
       "object_position": null,
       "order": null,
       "overflow": null,
       "overflow_x": null,
       "overflow_y": null,
       "padding": null,
       "right": null,
       "top": null,
       "visibility": null,
       "width": null
      }
     },
     "ac47117c654648c48783c062fc733900": {
      "model_module": "@jupyter-widgets/base",
      "model_module_version": "1.2.0",
      "model_name": "LayoutModel",
      "state": {
       "_model_module": "@jupyter-widgets/base",
       "_model_module_version": "1.2.0",
       "_model_name": "LayoutModel",
       "_view_count": null,
       "_view_module": "@jupyter-widgets/base",
       "_view_module_version": "1.2.0",
       "_view_name": "LayoutView",
       "align_content": null,
       "align_items": null,
       "align_self": null,
       "border": null,
       "bottom": null,
       "display": null,
       "flex": null,
       "flex_flow": null,
       "grid_area": null,
       "grid_auto_columns": null,
       "grid_auto_flow": null,
       "grid_auto_rows": null,
       "grid_column": null,
       "grid_gap": null,
       "grid_row": null,
       "grid_template_areas": null,
       "grid_template_columns": null,
       "grid_template_rows": null,
       "height": null,
       "justify_content": null,
       "justify_items": null,
       "left": null,
       "margin": null,
       "max_height": null,
       "max_width": null,
       "min_height": null,
       "min_width": null,
       "object_fit": null,
       "object_position": null,
       "order": null,
       "overflow": null,
       "overflow_x": null,
       "overflow_y": null,
       "padding": null,
       "right": null,
       "top": null,
       "visibility": null,
       "width": null
      }
     },
     "afdfe9945caa45bba8a1c5ca59efe7a0": {
      "model_module": "@jupyter-widgets/controls",
      "model_module_version": "1.5.0",
      "model_name": "ProgressStyleModel",
      "state": {
       "_model_module": "@jupyter-widgets/controls",
       "_model_module_version": "1.5.0",
       "_model_name": "ProgressStyleModel",
       "_view_count": null,
       "_view_module": "@jupyter-widgets/base",
       "_view_module_version": "1.2.0",
       "_view_name": "StyleView",
       "bar_color": null,
       "description_width": ""
      }
     },
     "affb343007f54615b47823f14fbc6568": {
      "model_module": "@jupyter-widgets/controls",
      "model_module_version": "1.5.0",
      "model_name": "FloatProgressModel",
      "state": {
       "_dom_classes": [],
       "_model_module": "@jupyter-widgets/controls",
       "_model_module_version": "1.5.0",
       "_model_name": "FloatProgressModel",
       "_view_count": null,
       "_view_module": "@jupyter-widgets/controls",
       "_view_module_version": "1.5.0",
       "_view_name": "ProgressView",
       "bar_style": "success",
       "description": "",
       "description_tooltip": null,
       "layout": "IPY_MODEL_f26c51e817284896b17dbeb5498fd3a3",
       "max": 1.0,
       "min": 0.0,
       "orientation": "horizontal",
       "style": "IPY_MODEL_68de09f95d6c4b33af17e3d462946db7",
       "value": 1.0
      }
     },
     "b24468f40fb040fa9f61fbce28d7d50e": {
      "model_module": "@jupyter-widgets/base",
      "model_module_version": "1.2.0",
      "model_name": "LayoutModel",
      "state": {
       "_model_module": "@jupyter-widgets/base",
       "_model_module_version": "1.2.0",
       "_model_name": "LayoutModel",
       "_view_count": null,
       "_view_module": "@jupyter-widgets/base",
       "_view_module_version": "1.2.0",
       "_view_name": "LayoutView",
       "align_content": null,
       "align_items": null,
       "align_self": null,
       "border": null,
       "bottom": null,
       "display": null,
       "flex": null,
       "flex_flow": null,
       "grid_area": null,
       "grid_auto_columns": null,
       "grid_auto_flow": null,
       "grid_auto_rows": null,
       "grid_column": null,
       "grid_gap": null,
       "grid_row": null,
       "grid_template_areas": null,
       "grid_template_columns": null,
       "grid_template_rows": null,
       "height": null,
       "justify_content": null,
       "justify_items": null,
       "left": null,
       "margin": null,
       "max_height": null,
       "max_width": null,
       "min_height": null,
       "min_width": null,
       "object_fit": null,
       "object_position": null,
       "order": null,
       "overflow": null,
       "overflow_x": null,
       "overflow_y": null,
       "padding": null,
       "right": null,
       "top": null,
       "visibility": null,
       "width": null
      }
     },
     "b5ce19706b0a44d5835b2a068f4105bc": {
      "model_module": "@jupyter-widgets/controls",
      "model_module_version": "1.5.0",
      "model_name": "HTMLModel",
      "state": {
       "_dom_classes": [],
       "_model_module": "@jupyter-widgets/controls",
       "_model_module_version": "1.5.0",
       "_model_name": "HTMLModel",
       "_view_count": null,
       "_view_module": "@jupyter-widgets/controls",
       "_view_module_version": "1.5.0",
       "_view_name": "HTMLView",
       "description": "",
       "description_tooltip": null,
       "layout": "IPY_MODEL_d0cb8f1ba9684fc6977746321f7f96e6",
       "placeholder": "​",
       "style": "IPY_MODEL_30096dab48ef4912890ff8c17d304307",
       "value": " 1/1 [00:01&lt;00:00,  1.97s/ba]"
      }
     },
     "b90fbabe3b234f38a1449f348a58e541": {
      "model_module": "@jupyter-widgets/controls",
      "model_module_version": "1.5.0",
      "model_name": "DescriptionStyleModel",
      "state": {
       "_model_module": "@jupyter-widgets/controls",
       "_model_module_version": "1.5.0",
       "_model_name": "DescriptionStyleModel",
       "_view_count": null,
       "_view_module": "@jupyter-widgets/base",
       "_view_module_version": "1.2.0",
       "_view_name": "StyleView",
       "description_width": ""
      }
     },
     "b944015197924c6da6ff1daf2357ce04": {
      "model_module": "@jupyter-widgets/controls",
      "model_module_version": "1.5.0",
      "model_name": "DescriptionStyleModel",
      "state": {
       "_model_module": "@jupyter-widgets/controls",
       "_model_module_version": "1.5.0",
       "_model_name": "DescriptionStyleModel",
       "_view_count": null,
       "_view_module": "@jupyter-widgets/base",
       "_view_module_version": "1.2.0",
       "_view_name": "StyleView",
       "description_width": ""
      }
     },
     "bb9c0e5ac42e4414889894df9b2fedb2": {
      "model_module": "@jupyter-widgets/controls",
      "model_module_version": "1.5.0",
      "model_name": "DescriptionStyleModel",
      "state": {
       "_model_module": "@jupyter-widgets/controls",
       "_model_module_version": "1.5.0",
       "_model_name": "DescriptionStyleModel",
       "_view_count": null,
       "_view_module": "@jupyter-widgets/base",
       "_view_module_version": "1.2.0",
       "_view_name": "StyleView",
       "description_width": ""
      }
     },
     "c0aa27cd24bf4b54bf47a9350e9688c9": {
      "model_module": "@jupyter-widgets/base",
      "model_module_version": "1.2.0",
      "model_name": "LayoutModel",
      "state": {
       "_model_module": "@jupyter-widgets/base",
       "_model_module_version": "1.2.0",
       "_model_name": "LayoutModel",
       "_view_count": null,
       "_view_module": "@jupyter-widgets/base",
       "_view_module_version": "1.2.0",
       "_view_name": "LayoutView",
       "align_content": null,
       "align_items": null,
       "align_self": null,
       "border": null,
       "bottom": null,
       "display": null,
       "flex": null,
       "flex_flow": null,
       "grid_area": null,
       "grid_auto_columns": null,
       "grid_auto_flow": null,
       "grid_auto_rows": null,
       "grid_column": null,
       "grid_gap": null,
       "grid_row": null,
       "grid_template_areas": null,
       "grid_template_columns": null,
       "grid_template_rows": null,
       "height": null,
       "justify_content": null,
       "justify_items": null,
       "left": null,
       "margin": null,
       "max_height": null,
       "max_width": null,
       "min_height": null,
       "min_width": null,
       "object_fit": null,
       "object_position": null,
       "order": null,
       "overflow": null,
       "overflow_x": null,
       "overflow_y": null,
       "padding": null,
       "right": null,
       "top": null,
       "visibility": null,
       "width": null
      }
     },
     "c189d26b94934641b302fedd627b17d1": {
      "model_module": "@jupyter-widgets/controls",
      "model_module_version": "1.5.0",
      "model_name": "ProgressStyleModel",
      "state": {
       "_model_module": "@jupyter-widgets/controls",
       "_model_module_version": "1.5.0",
       "_model_name": "ProgressStyleModel",
       "_view_count": null,
       "_view_module": "@jupyter-widgets/base",
       "_view_module_version": "1.2.0",
       "_view_name": "StyleView",
       "bar_color": null,
       "description_width": ""
      }
     },
     "c5a761e2c7ff403c8e43af1f46b6641a": {
      "model_module": "@jupyter-widgets/controls",
      "model_module_version": "1.5.0",
      "model_name": "DescriptionStyleModel",
      "state": {
       "_model_module": "@jupyter-widgets/controls",
       "_model_module_version": "1.5.0",
       "_model_name": "DescriptionStyleModel",
       "_view_count": null,
       "_view_module": "@jupyter-widgets/base",
       "_view_module_version": "1.2.0",
       "_view_name": "StyleView",
       "description_width": ""
      }
     },
     "c7ecc52bd6b249ea98077699e9f71851": {
      "model_module": "@jupyter-widgets/controls",
      "model_module_version": "1.5.0",
      "model_name": "HTMLModel",
      "state": {
       "_dom_classes": [],
       "_model_module": "@jupyter-widgets/controls",
       "_model_module_version": "1.5.0",
       "_model_name": "HTMLModel",
       "_view_count": null,
       "_view_module": "@jupyter-widgets/controls",
       "_view_module_version": "1.5.0",
       "_view_name": "HTMLView",
       "description": "",
       "description_tooltip": null,
       "layout": "IPY_MODEL_6372c7eeffa246178688d40ab0d336a9",
       "placeholder": "​",
       "style": "IPY_MODEL_30025ddff69f4a9b9ef6b68062026f48",
       "value": "100%"
      }
     },
     "ce6eaeaabce54d6dbed514842f84ffd1": {
      "model_module": "@jupyter-widgets/base",
      "model_module_version": "1.2.0",
      "model_name": "LayoutModel",
      "state": {
       "_model_module": "@jupyter-widgets/base",
       "_model_module_version": "1.2.0",
       "_model_name": "LayoutModel",
       "_view_count": null,
       "_view_module": "@jupyter-widgets/base",
       "_view_module_version": "1.2.0",
       "_view_name": "LayoutView",
       "align_content": null,
       "align_items": null,
       "align_self": null,
       "border": null,
       "bottom": null,
       "display": null,
       "flex": null,
       "flex_flow": null,
       "grid_area": null,
       "grid_auto_columns": null,
       "grid_auto_flow": null,
       "grid_auto_rows": null,
       "grid_column": null,
       "grid_gap": null,
       "grid_row": null,
       "grid_template_areas": null,
       "grid_template_columns": null,
       "grid_template_rows": null,
       "height": null,
       "justify_content": null,
       "justify_items": null,
       "left": null,
       "margin": null,
       "max_height": null,
       "max_width": null,
       "min_height": null,
       "min_width": null,
       "object_fit": null,
       "object_position": null,
       "order": null,
       "overflow": null,
       "overflow_x": null,
       "overflow_y": null,
       "padding": null,
       "right": null,
       "top": null,
       "visibility": null,
       "width": null
      }
     },
     "d0cb8f1ba9684fc6977746321f7f96e6": {
      "model_module": "@jupyter-widgets/base",
      "model_module_version": "1.2.0",
      "model_name": "LayoutModel",
      "state": {
       "_model_module": "@jupyter-widgets/base",
       "_model_module_version": "1.2.0",
       "_model_name": "LayoutModel",
       "_view_count": null,
       "_view_module": "@jupyter-widgets/base",
       "_view_module_version": "1.2.0",
       "_view_name": "LayoutView",
       "align_content": null,
       "align_items": null,
       "align_self": null,
       "border": null,
       "bottom": null,
       "display": null,
       "flex": null,
       "flex_flow": null,
       "grid_area": null,
       "grid_auto_columns": null,
       "grid_auto_flow": null,
       "grid_auto_rows": null,
       "grid_column": null,
       "grid_gap": null,
       "grid_row": null,
       "grid_template_areas": null,
       "grid_template_columns": null,
       "grid_template_rows": null,
       "height": null,
       "justify_content": null,
       "justify_items": null,
       "left": null,
       "margin": null,
       "max_height": null,
       "max_width": null,
       "min_height": null,
       "min_width": null,
       "object_fit": null,
       "object_position": null,
       "order": null,
       "overflow": null,
       "overflow_x": null,
       "overflow_y": null,
       "padding": null,
       "right": null,
       "top": null,
       "visibility": null,
       "width": null
      }
     },
     "d5d5af6a2beb4cec93e57509edc13b60": {
      "model_module": "@jupyter-widgets/base",
      "model_module_version": "1.2.0",
      "model_name": "LayoutModel",
      "state": {
       "_model_module": "@jupyter-widgets/base",
       "_model_module_version": "1.2.0",
       "_model_name": "LayoutModel",
       "_view_count": null,
       "_view_module": "@jupyter-widgets/base",
       "_view_module_version": "1.2.0",
       "_view_name": "LayoutView",
       "align_content": null,
       "align_items": null,
       "align_self": null,
       "border": null,
       "bottom": null,
       "display": null,
       "flex": null,
       "flex_flow": null,
       "grid_area": null,
       "grid_auto_columns": null,
       "grid_auto_flow": null,
       "grid_auto_rows": null,
       "grid_column": null,
       "grid_gap": null,
       "grid_row": null,
       "grid_template_areas": null,
       "grid_template_columns": null,
       "grid_template_rows": null,
       "height": null,
       "justify_content": null,
       "justify_items": null,
       "left": null,
       "margin": null,
       "max_height": null,
       "max_width": null,
       "min_height": null,
       "min_width": null,
       "object_fit": null,
       "object_position": null,
       "order": null,
       "overflow": null,
       "overflow_x": null,
       "overflow_y": null,
       "padding": null,
       "right": null,
       "top": null,
       "visibility": null,
       "width": null
      }
     },
     "d9305720720a4462b4ffd71d08543f07": {
      "model_module": "@jupyter-widgets/controls",
      "model_module_version": "1.5.0",
      "model_name": "FloatProgressModel",
      "state": {
       "_dom_classes": [],
       "_model_module": "@jupyter-widgets/controls",
       "_model_module_version": "1.5.0",
       "_model_name": "FloatProgressModel",
       "_view_count": null,
       "_view_module": "@jupyter-widgets/controls",
       "_view_module_version": "1.5.0",
       "_view_name": "ProgressView",
       "bar_style": "success",
       "description": "",
       "description_tooltip": null,
       "layout": "IPY_MODEL_096a913972984ddc99ce7d00af6ba20a",
       "max": 5.0,
       "min": 0.0,
       "orientation": "horizontal",
       "style": "IPY_MODEL_c189d26b94934641b302fedd627b17d1",
       "value": 5.0
      }
     },
     "d9e5268f62fb4d519d6a0f9876891946": {
      "model_module": "@jupyter-widgets/base",
      "model_module_version": "1.2.0",
      "model_name": "LayoutModel",
      "state": {
       "_model_module": "@jupyter-widgets/base",
       "_model_module_version": "1.2.0",
       "_model_name": "LayoutModel",
       "_view_count": null,
       "_view_module": "@jupyter-widgets/base",
       "_view_module_version": "1.2.0",
       "_view_name": "LayoutView",
       "align_content": null,
       "align_items": null,
       "align_self": null,
       "border": null,
       "bottom": null,
       "display": null,
       "flex": null,
       "flex_flow": null,
       "grid_area": null,
       "grid_auto_columns": null,
       "grid_auto_flow": null,
       "grid_auto_rows": null,
       "grid_column": null,
       "grid_gap": null,
       "grid_row": null,
       "grid_template_areas": null,
       "grid_template_columns": null,
       "grid_template_rows": null,
       "height": null,
       "justify_content": null,
       "justify_items": null,
       "left": null,
       "margin": null,
       "max_height": null,
       "max_width": null,
       "min_height": null,
       "min_width": null,
       "object_fit": null,
       "object_position": null,
       "order": null,
       "overflow": null,
       "overflow_x": null,
       "overflow_y": null,
       "padding": null,
       "right": null,
       "top": null,
       "visibility": null,
       "width": null
      }
     },
     "de526e508cab498bb0feb896a25fecbd": {
      "model_module": "@jupyter-widgets/base",
      "model_module_version": "1.2.0",
      "model_name": "LayoutModel",
      "state": {
       "_model_module": "@jupyter-widgets/base",
       "_model_module_version": "1.2.0",
       "_model_name": "LayoutModel",
       "_view_count": null,
       "_view_module": "@jupyter-widgets/base",
       "_view_module_version": "1.2.0",
       "_view_name": "LayoutView",
       "align_content": null,
       "align_items": null,
       "align_self": null,
       "border": null,
       "bottom": null,
       "display": null,
       "flex": null,
       "flex_flow": null,
       "grid_area": null,
       "grid_auto_columns": null,
       "grid_auto_flow": null,
       "grid_auto_rows": null,
       "grid_column": null,
       "grid_gap": null,
       "grid_row": null,
       "grid_template_areas": null,
       "grid_template_columns": null,
       "grid_template_rows": null,
       "height": null,
       "justify_content": null,
       "justify_items": null,
       "left": null,
       "margin": null,
       "max_height": null,
       "max_width": null,
       "min_height": null,
       "min_width": null,
       "object_fit": null,
       "object_position": null,
       "order": null,
       "overflow": null,
       "overflow_x": null,
       "overflow_y": null,
       "padding": null,
       "right": null,
       "top": null,
       "visibility": null,
       "width": null
      }
     },
     "e170784e3473464f9256d0751c41114e": {
      "model_module": "@jupyter-widgets/controls",
      "model_module_version": "1.5.0",
      "model_name": "HTMLModel",
      "state": {
       "_dom_classes": [],
       "_model_module": "@jupyter-widgets/controls",
       "_model_module_version": "1.5.0",
       "_model_name": "HTMLModel",
       "_view_count": null,
       "_view_module": "@jupyter-widgets/controls",
       "_view_module_version": "1.5.0",
       "_view_name": "HTMLView",
       "description": "",
       "description_tooltip": null,
       "layout": "IPY_MODEL_07dafb0d7052439bbbb040105e1c9878",
       "placeholder": "​",
       "style": "IPY_MODEL_5b2a8b016a0b48fea4ac9742f642f99f",
       "value": " 5/5 [00:00&lt;00:00, 12.46it/s]"
      }
     },
     "e25cd529b20a42a8bc307d646d37bcd0": {
      "model_module": "@jupyter-widgets/controls",
      "model_module_version": "1.5.0",
      "model_name": "DescriptionStyleModel",
      "state": {
       "_model_module": "@jupyter-widgets/controls",
       "_model_module_version": "1.5.0",
       "_model_name": "DescriptionStyleModel",
       "_view_count": null,
       "_view_module": "@jupyter-widgets/base",
       "_view_module_version": "1.2.0",
       "_view_name": "StyleView",
       "description_width": ""
      }
     },
     "e57d6d3c0306473bbac7d725555c5e7e": {
      "model_module": "@jupyter-widgets/controls",
      "model_module_version": "1.5.0",
      "model_name": "FloatProgressModel",
      "state": {
       "_dom_classes": [],
       "_model_module": "@jupyter-widgets/controls",
       "_model_module_version": "1.5.0",
       "_model_name": "FloatProgressModel",
       "_view_count": null,
       "_view_module": "@jupyter-widgets/controls",
       "_view_module_version": "1.5.0",
       "_view_name": "ProgressView",
       "bar_style": "success",
       "description": "",
       "description_tooltip": null,
       "layout": "IPY_MODEL_4bbf2ae558d44efb9c5f6aeb31d8c2cf",
       "max": 64.0,
       "min": 0.0,
       "orientation": "horizontal",
       "style": "IPY_MODEL_fa3cb9a1866b42719f508a642edbae0e",
       "value": 64.0
      }
     },
     "ee99d02bc04042dc91bf28c5f83a8907": {
      "model_module": "@jupyter-widgets/controls",
      "model_module_version": "1.5.0",
      "model_name": "HBoxModel",
      "state": {
       "_dom_classes": [],
       "_model_module": "@jupyter-widgets/controls",
       "_model_module_version": "1.5.0",
       "_model_name": "HBoxModel",
       "_view_count": null,
       "_view_module": "@jupyter-widgets/controls",
       "_view_module_version": "1.5.0",
       "_view_name": "HBoxView",
       "box_style": "",
       "children": [
        "IPY_MODEL_46146a04f66c481dbe844ae3b3029284",
        "IPY_MODEL_d9305720720a4462b4ffd71d08543f07",
        "IPY_MODEL_e170784e3473464f9256d0751c41114e"
       ],
       "layout": "IPY_MODEL_673beee0d7e040bc8b05a37e20a4b8df"
      }
     },
     "efac4d7462c74f9f8bc1a1058bdc661a": {
      "model_module": "@jupyter-widgets/controls",
      "model_module_version": "1.5.0",
      "model_name": "DescriptionStyleModel",
      "state": {
       "_model_module": "@jupyter-widgets/controls",
       "_model_module_version": "1.5.0",
       "_model_name": "DescriptionStyleModel",
       "_view_count": null,
       "_view_module": "@jupyter-widgets/base",
       "_view_module_version": "1.2.0",
       "_view_name": "StyleView",
       "description_width": ""
      }
     },
     "f26c51e817284896b17dbeb5498fd3a3": {
      "model_module": "@jupyter-widgets/base",
      "model_module_version": "1.2.0",
      "model_name": "LayoutModel",
      "state": {
       "_model_module": "@jupyter-widgets/base",
       "_model_module_version": "1.2.0",
       "_model_name": "LayoutModel",
       "_view_count": null,
       "_view_module": "@jupyter-widgets/base",
       "_view_module_version": "1.2.0",
       "_view_name": "LayoutView",
       "align_content": null,
       "align_items": null,
       "align_self": null,
       "border": null,
       "bottom": null,
       "display": null,
       "flex": null,
       "flex_flow": null,
       "grid_area": null,
       "grid_auto_columns": null,
       "grid_auto_flow": null,
       "grid_auto_rows": null,
       "grid_column": null,
       "grid_gap": null,
       "grid_row": null,
       "grid_template_areas": null,
       "grid_template_columns": null,
       "grid_template_rows": null,
       "height": null,
       "justify_content": null,
       "justify_items": null,
       "left": null,
       "margin": null,
       "max_height": null,
       "max_width": null,
       "min_height": null,
       "min_width": null,
       "object_fit": null,
       "object_position": null,
       "order": null,
       "overflow": null,
       "overflow_x": null,
       "overflow_y": null,
       "padding": null,
       "right": null,
       "top": null,
       "visibility": null,
       "width": null
      }
     },
     "f38c15be0a4d4a049d7c501c5a4b0c70": {
      "model_module": "@jupyter-widgets/controls",
      "model_module_version": "1.5.0",
      "model_name": "ProgressStyleModel",
      "state": {
       "_model_module": "@jupyter-widgets/controls",
       "_model_module_version": "1.5.0",
       "_model_name": "ProgressStyleModel",
       "_view_count": null,
       "_view_module": "@jupyter-widgets/base",
       "_view_module_version": "1.2.0",
       "_view_name": "StyleView",
       "bar_color": null,
       "description_width": ""
      }
     },
     "f548951f50a44329ae57fe2e1889ad33": {
      "model_module": "@jupyter-widgets/controls",
      "model_module_version": "1.5.0",
      "model_name": "HBoxModel",
      "state": {
       "_dom_classes": [],
       "_model_module": "@jupyter-widgets/controls",
       "_model_module_version": "1.5.0",
       "_model_name": "HBoxModel",
       "_view_count": null,
       "_view_module": "@jupyter-widgets/controls",
       "_view_module_version": "1.5.0",
       "_view_name": "HBoxView",
       "box_style": "",
       "children": [
        "IPY_MODEL_a260a1fcff724615a0cd6cc70dd90bc0",
        "IPY_MODEL_98e5f068caa14373afad85d652304a91",
        "IPY_MODEL_b5ce19706b0a44d5835b2a068f4105bc"
       ],
       "layout": "IPY_MODEL_20c2827b6cb9403f829672b4ca172b26"
      }
     },
     "f6f570673856448ebe48c2bfadffa4d3": {
      "model_module": "@jupyter-widgets/controls",
      "model_module_version": "1.5.0",
      "model_name": "FloatProgressModel",
      "state": {
       "_dom_classes": [],
       "_model_module": "@jupyter-widgets/controls",
       "_model_module_version": "1.5.0",
       "_model_name": "FloatProgressModel",
       "_view_count": null,
       "_view_module": "@jupyter-widgets/controls",
       "_view_module_version": "1.5.0",
       "_view_name": "ProgressView",
       "bar_style": "success",
       "description": "",
       "description_tooltip": null,
       "layout": "IPY_MODEL_92c925873079483d975946877f4faaa1",
       "max": 67.0,
       "min": 0.0,
       "orientation": "horizontal",
       "style": "IPY_MODEL_fc23cee58bc94adba08f31a382c56140",
       "value": 67.0
      }
     },
     "fa3cb9a1866b42719f508a642edbae0e": {
      "model_module": "@jupyter-widgets/controls",
      "model_module_version": "1.5.0",
      "model_name": "ProgressStyleModel",
      "state": {
       "_model_module": "@jupyter-widgets/controls",
       "_model_module_version": "1.5.0",
       "_model_name": "ProgressStyleModel",
       "_view_count": null,
       "_view_module": "@jupyter-widgets/base",
       "_view_module_version": "1.2.0",
       "_view_name": "StyleView",
       "bar_color": null,
       "description_width": ""
      }
     },
     "fb8f200d8d4d4b11a563a66ded4adc5c": {
      "model_module": "@jupyter-widgets/controls",
      "model_module_version": "1.5.0",
      "model_name": "HTMLModel",
      "state": {
       "_dom_classes": [],
       "_model_module": "@jupyter-widgets/controls",
       "_model_module_version": "1.5.0",
       "_model_name": "HTMLModel",
       "_view_count": null,
       "_view_module": "@jupyter-widgets/controls",
       "_view_module_version": "1.5.0",
       "_view_name": "HTMLView",
       "description": "",
       "description_tooltip": null,
       "layout": "IPY_MODEL_67d12b5d99ba42f3805764d4f3316fbb",
       "placeholder": "​",
       "style": "IPY_MODEL_efac4d7462c74f9f8bc1a1058bdc661a",
       "value": " 2/2 [00:36&lt;00:00, 15.12s/ba]"
      }
     },
     "fc23cee58bc94adba08f31a382c56140": {
      "model_module": "@jupyter-widgets/controls",
      "model_module_version": "1.5.0",
      "model_name": "ProgressStyleModel",
      "state": {
       "_model_module": "@jupyter-widgets/controls",
       "_model_module_version": "1.5.0",
       "_model_name": "ProgressStyleModel",
       "_view_count": null,
       "_view_module": "@jupyter-widgets/base",
       "_view_module_version": "1.2.0",
       "_view_name": "StyleView",
       "bar_color": null,
       "description_width": ""
      }
     },
     "fcc493024fd347cb9f7e38dab3d7f7c9": {
      "model_module": "@jupyter-widgets/controls",
      "model_module_version": "1.5.0",
      "model_name": "HTMLModel",
      "state": {
       "_dom_classes": [],
       "_model_module": "@jupyter-widgets/controls",
       "_model_module_version": "1.5.0",
       "_model_name": "HTMLModel",
       "_view_count": null,
       "_view_module": "@jupyter-widgets/controls",
       "_view_module_version": "1.5.0",
       "_view_name": "HTMLView",
       "description": "",
       "description_tooltip": null,
       "layout": "IPY_MODEL_51d6e7a61fb74940a8ff4cc4955b9769",
       "placeholder": "​",
       "style": "IPY_MODEL_b90fbabe3b234f38a1449f348a58e541",
       "value": "100%"
      }
     }
    },
    "version_major": 2,
    "version_minor": 0
   }
  }
 },
 "nbformat": 4,
 "nbformat_minor": 5
}
